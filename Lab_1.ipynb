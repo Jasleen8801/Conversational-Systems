{
  "nbformat": 4,
  "nbformat_minor": 0,
  "metadata": {
    "colab": {
      "provenance": [],
      "authorship_tag": "ABX9TyPiBOfttkeoY2dOARZG2hZr",
      "include_colab_link": true
    },
    "kernelspec": {
      "name": "python3",
      "display_name": "Python 3"
    },
    "language_info": {
      "name": "python"
    }
  },
  "cells": [
    {
      "cell_type": "markdown",
      "metadata": {
        "id": "view-in-github",
        "colab_type": "text"
      },
      "source": [
        "<a href=\"https://colab.research.google.com/github/Jasleen8801/Conversational-Systems/blob/main/Lab_1.ipynb\" target=\"_parent\"><img src=\"https://colab.research.google.com/assets/colab-badge.svg\" alt=\"Open In Colab\"/></a>"
      ]
    },
    {
      "cell_type": "markdown",
      "source": [
        "# **Assignment 1**"
      ],
      "metadata": {
        "id": "Lu7gUs2-jddS"
      }
    },
    {
      "cell_type": "markdown",
      "source": [
        "1. Write a Python program to find average of three numbers entered by the user."
      ],
      "metadata": {
        "id": "DNlCBbuckHLd"
      }
    },
    {
      "cell_type": "code",
      "execution_count": 1,
      "metadata": {
        "id": "6FMCqUU0jUyl",
        "colab": {
          "base_uri": "https://localhost:8080/"
        },
        "outputId": "4a63d4cc-7b4c-49c1-9745-b6a76031b2dc"
      },
      "outputs": [
        {
          "output_type": "stream",
          "name": "stdout",
          "text": [
            "Enter first number: 10\n",
            "Enter second number: 10\n",
            "Enter third number: 10\n",
            "The average of the three numbers is: 10.0\n"
          ]
        }
      ],
      "source": [
        "def calcAverage(a, b, c):\n",
        "  return (a+b+c)/3\n",
        "\n",
        "a = float(input(\"Enter first number: \"))\n",
        "b = float(input(\"Enter second number: \"))\n",
        "c = float(input(\"Enter third number: \"))\n",
        "\n",
        "avg = calcAverage(a,b,c)\n",
        "print(f\"The average of the three numbers is: {avg}\")"
      ]
    },
    {
      "cell_type": "markdown",
      "source": [
        "2. Write a python program to compute a person's income tax. Assume following tax laws:\n",
        "\n",
        "  • All taxpayers are charged a flat tax rate of 20%.\n",
        "\n",
        "  • All taxpayers are allowed a $10,000 standard deduction.\n",
        "\n",
        "  • For each dependent, a taxpayer is allowed an additional $3,000 deduction.\n",
        "\n",
        "  • Gross income must be entered to the nearest penny.\n",
        "\n",
        "  Gross Income and the number of dependents must be asked from the user.\n",
        "\n",
        "  Hint:\n",
        "  Taxable income = Gross Income - Standard deduction - (Dependent deduction\n",
        "No. of dependents)\n",
        "\n",
        "  Tax = Taxable Income * Tax Rate"
      ],
      "metadata": {
        "id": "cby9PY1HotmF"
      }
    },
    {
      "cell_type": "code",
      "source": [
        "def calcIncomeTax(gross_income, num_dependents):\n",
        "  tax_rate = 0.20  # 20% flat tax rate\n",
        "  standard_deduction = 10000\n",
        "  dependent_deduction = 3000\n",
        "\n",
        "  taxable_income = gross_income - standard_deduction - (num_dependents * dependent_deduction)\n",
        "  income_tax = taxable_income * tax_rate\n",
        "  return income_tax\n",
        "\n",
        "gross_income = float(input(\"Enter your gross income: \"))\n",
        "num_dependents = int(input(\"Enter the number of dependents: \"))\n",
        "\n",
        "income_tax = calcIncomeTax(gross_income, num_dependents)\n",
        "\n",
        "print(\"Your income tax is: ${:.2f}\".format(income_tax))"
      ],
      "metadata": {
        "colab": {
          "base_uri": "https://localhost:8080/"
        },
        "id": "281yRIXfoktS",
        "outputId": "3790b8d3-2e68-4852-efd1-a7c83cb9a36b"
      },
      "execution_count": 2,
      "outputs": [
        {
          "output_type": "stream",
          "name": "stdout",
          "text": [
            "Enter your gross income: 10000\n",
            "Enter the number of dependents: 3\n",
            "Your income tax is: $-1800.00\n"
          ]
        }
      ]
    },
    {
      "cell_type": "markdown",
      "source": [
        "3. Write a python program to store different data type values into a list.\n",
        "\n",
        "  (For an example: Student [SID, Name, Gender, Course Name, CGPA]).\n",
        "\n",
        "  Note: Use Gender values: ‘F’, ‘M’, ‘U’ (For Unknown). CGPA should have floating type values (example: 7.5)."
      ],
      "metadata": {
        "id": "0UEDZqQWp-Sh"
      }
    },
    {
      "cell_type": "code",
      "source": [
        "students=[]\n",
        "num_students = int(input(\"Enter number of students: \"))\n",
        "for i in range(1, num_students+1):\n",
        "  print(f\"Enter details of student {i}:\")\n",
        "  sid = input(\"Student ID: \")\n",
        "  name = input(\"Name: \")\n",
        "  gender = input(\"Gender (F/M): \")\n",
        "  course = input(\"Course Name: \")\n",
        "  cgpa = float(input(\"CGPA: \"))\n",
        "  stud_data = [sid, name, gender, course, cgpa]\n",
        "  students.append(stud_data)\n",
        "\n",
        "print(\"\\n Student Data\")\n",
        "for student in students:\n",
        "  print(f\"Student ID: {student[0]}\")\n",
        "  print(f\"Name: {student[1]}\")\n",
        "  print(f\"Gender: {student[2]}\")\n",
        "  print(f\"Course Name: {student[3]}\")\n",
        "  print(f\"CGPA: {student[4]}\\n\")\n",
        ""
      ],
      "metadata": {
        "colab": {
          "base_uri": "https://localhost:8080/"
        },
        "id": "XbCb0-30qIkN",
        "outputId": "716e19fd-c3a6-4309-920c-90327146f8cd"
      },
      "execution_count": 3,
      "outputs": [
        {
          "output_type": "stream",
          "name": "stdout",
          "text": [
            "Enter number of students: 1\n",
            "Enter details of student 1:\n",
            "Student ID: 1\n",
            "Name: Jasleen\n",
            "Gender (F/M): F\n",
            "Course Name: Convo AI\n",
            "CGPA: 9.1\n",
            "\n",
            " Student Data\n",
            "Student ID: 1\n",
            "Name: Jasleen\n",
            "Gender: F\n",
            "Course Name: Convo AI\n",
            "CGPA: 9.1\n",
            "\n"
          ]
        }
      ]
    },
    {
      "cell_type": "markdown",
      "source": [
        "4. Write a python program to enter marks of 5 students into a list and display\n",
        "them in sorted manner."
      ],
      "metadata": {
        "id": "cCY2ivJ3s8GC"
      }
    },
    {
      "cell_type": "code",
      "source": [
        "marks = []\n",
        "for i in range(5):\n",
        "  while(True):\n",
        "    mark = float(input(f\"Enter marks of student {i+1}: \"))\n",
        "    if 0 <= mark <= 100:\n",
        "      break\n",
        "    else:\n",
        "      print(\"Invalid input\")\n",
        "  marks.append(mark)\n",
        "marks.sort()\n",
        "\n",
        "print(\"\\n Sorted marks of 5 students: \")\n",
        "for i, mark in enumerate(marks, start=1):\n",
        "  print(f\"Student{i}: {mark:.2f}\")"
      ],
      "metadata": {
        "colab": {
          "base_uri": "https://localhost:8080/"
        },
        "id": "4pxcC3a9tDn3",
        "outputId": "0ebcd653-af68-429a-b892-b33b6eac082c"
      },
      "execution_count": 4,
      "outputs": [
        {
          "output_type": "stream",
          "name": "stdout",
          "text": [
            "Enter marks of student 1: 45\n",
            "Enter marks of student 2: 55\n",
            "Enter marks of student 3: 65\n",
            "Enter marks of student 4: 75\n",
            "Enter marks of student 5: 85\n",
            "\n",
            " Sorted marks of 5 students: \n",
            "Student1: 45.00\n",
            "Student2: 55.00\n",
            "Student3: 65.00\n",
            "Student4: 75.00\n",
            "Student5: 85.00\n"
          ]
        }
      ]
    },
    {
      "cell_type": "markdown",
      "source": [
        "5. List: color ['Red', 'Green', 'White', 'Black', 'Pink', 'Yellow']\n",
        "\n",
        "  a. Write a Python program to print a specified list after removing 4th element.\n",
        "\n",
        "  Expected output: color [Red', 'Green', 'White', 'Pink', 'Yellow']\n",
        "\n",
        "  b. Remove ‘Black’ and ‘Pink’ from the list and replace them with ‘Purple’.\n",
        "\n",
        "  Do that in one line code."
      ],
      "metadata": {
        "id": "yQXP4GXPuESs"
      }
    },
    {
      "cell_type": "code",
      "source": [
        "colors = ['Red', 'Green', 'White', 'Black', 'Pink', 'Yellow']\n",
        "print(\"Original List: \", colors)\n",
        "\n",
        "colors.pop(3)\n",
        "print(\"List after removing 4th element: \", colors)\n",
        "\n",
        "colors = [color if color not in ['Black', 'Pink'] else 'Purple' for color in colors]\n",
        "print(\"Required list: \", colors)"
      ],
      "metadata": {
        "colab": {
          "base_uri": "https://localhost:8080/"
        },
        "id": "jR9JRT6huNaE",
        "outputId": "fae15f90-753a-4325-f558-3b5524a0f7b4"
      },
      "execution_count": 5,
      "outputs": [
        {
          "output_type": "stream",
          "name": "stdout",
          "text": [
            "Original List:  ['Red', 'Green', 'White', 'Black', 'Pink', 'Yellow']\n",
            "List after removing 4th element:  ['Red', 'Green', 'White', 'Pink', 'Yellow']\n",
            "Required list:  ['Red', 'Green', 'White', 'Purple', 'Yellow']\n"
          ]
        }
      ]
    },
    {
      "cell_type": "markdown",
      "source": [
        "# **Assignment 2**"
      ],
      "metadata": {
        "id": "JCNcbNTdwOc_"
      }
    },
    {
      "cell_type": "markdown",
      "source": [
        "1. For a given input string “Python is a case sensitive language”. Write python\n",
        "code for the following:\n",
        "\n",
        "  a. Find the length of the input string.\n",
        "\n",
        "  b. Reverse the order of the string in one line code.\n",
        "\n",
        "  c. Using Slice function store “a case sensitive” in new string.\n",
        "\n",
        "  d. Replace “a case sensitive” with “object oriented”.\n",
        "\n",
        "  e. Find index of substring “a” in the given input string.\n",
        "\n",
        "  f. Remove the white spaces from the given input string."
      ],
      "metadata": {
        "id": "55NADOgiwTPG"
      }
    },
    {
      "cell_type": "code",
      "source": [
        "input_str = \"Python is a case sensitive language\"\n",
        "\n",
        "len_of_str = len(input_str)\n",
        "print(f\"Length of input string: {len_of_str}\")\n",
        "\n",
        "rev_str = input_str[::-1]\n",
        "print(f\"Reversed string: {rev_str}\")\n",
        "\n",
        "slice_str = input_str[10:26]\n",
        "print(f\"Slice string: {slice_str}\")\n",
        "\n",
        "replaced_str = input_str.replace(\"a case sensitive\", \"object oriented\")\n",
        "print(f\"Replaced string: {replaced_str}\")\n",
        "\n",
        "index_of_a = input_str.index(\"a\")\n",
        "print(f\"Index of 'a': {index_of_a}\")\n",
        "\n",
        "no_white_spaces_str = input_str.replace(\" \", \"\")\n",
        "print(f\"String with no white spaces: {no_white_spaces_str}\")"
      ],
      "metadata": {
        "colab": {
          "base_uri": "https://localhost:8080/"
        },
        "id": "2i37Cpu_wczE",
        "outputId": "349d3428-ad76-42be-a2cd-21ffa9bb327b"
      },
      "execution_count": 6,
      "outputs": [
        {
          "output_type": "stream",
          "name": "stdout",
          "text": [
            "Length of input string: 35\n",
            "Reversed string: egaugnal evitisnes esac a si nohtyP\n",
            "Slice string: a case sensitive\n",
            "Replaced string: Python is object oriented language\n",
            "Index of 'a': 10\n",
            "String with no white spaces: Pythonisacasesensitivelanguage\n"
          ]
        }
      ]
    },
    {
      "cell_type": "markdown",
      "source": [
        "2. Store your name, SID, department name and CGPA into different variables.\n",
        "\n",
        "  With the help of String formatting print the following output:\n",
        "\n",
        "  Hey, ABC Here!\n",
        "\n",
        "  My SID is 2110XXXX\n",
        "\n",
        "  I am from XYZ department and my CGPA is 9.9"
      ],
      "metadata": {
        "id": "aaw5o2rUxf92"
      }
    },
    {
      "cell_type": "code",
      "source": [
        "name = \"ABC\"\n",
        "sid = \"2110XXXX\"\n",
        "department = \"XYZ\"\n",
        "cgpa = 9.9\n",
        "\n",
        "output = \"Hey, {} Here!\\nMy SID is {}\\nI am from {} department and my CGPA is {}\"\n",
        "print(output.format(name, sid, department, cgpa))\n"
      ],
      "metadata": {
        "colab": {
          "base_uri": "https://localhost:8080/"
        },
        "id": "JKm3-9N8xmkd",
        "outputId": "460eaf0a-2ee8-4abf-c2fa-0e54b8ffa6ef"
      },
      "execution_count": 7,
      "outputs": [
        {
          "output_type": "stream",
          "name": "stdout",
          "text": [
            "Hey, ABC Here!\n",
            "My SID is 2110XXXX\n",
            "I am from XYZ department and my CGPA is 9.9\n"
          ]
        }
      ]
    },
    {
      "cell_type": "markdown",
      "source": [
        "3. For a=56 and b=10 with the help of bitwise operators calculate the following:\n",
        "\n",
        "  a. a&b\n",
        "\n",
        "  b. a|b\n",
        "\n",
        "  c. a^b\n",
        "\n",
        "  d. Left shift both a and b with 2 bits.\n",
        "\n",
        "  e. Right shift a with 2 bits and b with 4 bits."
      ],
      "metadata": {
        "id": "gCrZFA2Qxqvj"
      }
    },
    {
      "cell_type": "code",
      "source": [
        "a = 56\n",
        "b = 10\n",
        "\n",
        "result_and = a & b\n",
        "print(\"a & b:\", result_and)\n",
        "\n",
        "result_or = a | b\n",
        "print(\"a | b:\", result_or)\n",
        "\n",
        "result_xor = a ^ b\n",
        "print(\"a ^ b:\", result_xor)\n",
        "\n",
        "result_left_shift_a = a << 2\n",
        "result_left_shift_b = b << 2\n",
        "print(\"Left shifted a:\", result_left_shift_a)\n",
        "print(\"Left shifted b:\", result_left_shift_b)\n",
        "\n",
        "result_right_shift_a = a >> 2\n",
        "result_right_shift_b = b >> 4\n",
        "print(\"Right shifted a:\", result_right_shift_a)\n",
        "print(\"Right shifted b:\", result_right_shift_b)\n"
      ],
      "metadata": {
        "colab": {
          "base_uri": "https://localhost:8080/"
        },
        "id": "ruWwYCQZx5Gt",
        "outputId": "caba34ce-98a0-48ab-f387-dfd486fb230c"
      },
      "execution_count": 8,
      "outputs": [
        {
          "output_type": "stream",
          "name": "stdout",
          "text": [
            "a & b: 8\n",
            "a | b: 58\n",
            "a ^ b: 50\n",
            "Left shifted a: 224\n",
            "Left shifted b: 40\n",
            "Right shifted a: 14\n",
            "Right shifted b: 0\n"
          ]
        }
      ]
    },
    {
      "cell_type": "markdown",
      "source": [
        "4. Write a python program to check if the word “name” is present in the string\n",
        "entered by the user (Print : “Yes” or “No”)."
      ],
      "metadata": {
        "id": "7mq0u67FyPIr"
      }
    },
    {
      "cell_type": "code",
      "source": [
        "def check_for_name(word, string):\n",
        "  return word in string.lower()\n",
        "\n",
        "user_input = input(\"Enter a string: \")\n",
        "word_to_find = \"name\"\n",
        "\n",
        "if check_for_name(word_to_find, user_input):\n",
        "    print(\"Yes\")\n",
        "else:\n",
        "    print(\"No\")\n"
      ],
      "metadata": {
        "colab": {
          "base_uri": "https://localhost:8080/"
        },
        "id": "LICc0GhxyLyk",
        "outputId": "a2940c9b-e245-464c-bdc6-d97edcecfc0c"
      },
      "execution_count": 9,
      "outputs": [
        {
          "output_type": "stream",
          "name": "stdout",
          "text": [
            "Enter a string: Hi my name is Jasleen\n",
            "Yes\n"
          ]
        }
      ]
    },
    {
      "cell_type": "markdown",
      "source": [
        "5. For any three lengths, there is a simple test to see if it is possible to form a\n",
        "triangle. If any of the three lengths is greater than the sum of the other two,\n",
        "then you cannot form a triangle. Otherwise, Enter three sides of a triangle,\n",
        "converts them to integers, and to check whether the given input lengths can\n",
        "form a triangle or not (Print : “Yes” or “No”).[Don’t use if else here]."
      ],
      "metadata": {
        "id": "iaHXoA9SyaiI"
      }
    },
    {
      "cell_type": "code",
      "source": [
        "def check_triangle_lengths(a, b, c):\n",
        "  lengths = [a, b, c]\n",
        "  lengths.sort()\n",
        "\n",
        "  return lengths[0] + lengths[1] > lengths[2]\n",
        "\n",
        "a = int(input(\"Enter the first side of the triangle: \"))\n",
        "b = int(input(\"Enter the second side of the triangle: \"))\n",
        "c = int(input(\"Enter the third side of the triangle: \"))\n",
        "\n",
        "result = check_triangle_lengths(a, b, c)\n",
        "\n",
        "if result:\n",
        "    print(\"Yes\")\n",
        "else:\n",
        "    print(\"No\")"
      ],
      "metadata": {
        "colab": {
          "base_uri": "https://localhost:8080/"
        },
        "id": "NeUHn3olydXc",
        "outputId": "8d50d732-ee36-4108-e414-f3318430822b"
      },
      "execution_count": 10,
      "outputs": [
        {
          "output_type": "stream",
          "name": "stdout",
          "text": [
            "Enter the first side of the triangle: 3\n",
            "Enter the second side of the triangle: 4\n",
            "Enter the third side of the triangle: 5\n",
            "Yes\n"
          ]
        }
      ]
    },
    {
      "cell_type": "markdown",
      "source": [
        "6. Given two numbers ‘a’ and b’. Write a program to count number of bits\n",
        "needed to be flipped to convert ‘a’ to ‘b’."
      ],
      "metadata": {
        "id": "luxsRpi8yqXD"
      }
    },
    {
      "cell_type": "code",
      "source": [
        "def count_bits_to_flip(a, b):\n",
        "  xor_result = a ^ b\n",
        "  count = 0\n",
        "  while xor_result:\n",
        "    count += xor_result & 1\n",
        "    xor_result >>= 1\n",
        "  return count\n",
        "\n",
        "a = int(input(\"Enter the first number (a): \"))\n",
        "b = int(input(\"Enter the second number (b): \"))\n",
        "\n",
        "num_bits_to_flip = count_bits_to_flip(a, b)\n",
        "print(\"Number of bits needed to be flipped:\", num_bits_to_flip)"
      ],
      "metadata": {
        "colab": {
          "base_uri": "https://localhost:8080/"
        },
        "id": "OA2bFdY7ys9J",
        "outputId": "8a3ad982-92df-469f-ed7b-973ce55904fc"
      },
      "execution_count": 11,
      "outputs": [
        {
          "output_type": "stream",
          "name": "stdout",
          "text": [
            "Enter the first number (a): 2\n",
            "Enter the second number (b): 1\n",
            "Number of bits needed to be flipped: 2\n"
          ]
        }
      ]
    },
    {
      "cell_type": "markdown",
      "source": [
        "# **Assignment 3**"
      ],
      "metadata": {
        "id": "Fm362w3FzZbM"
      }
    },
    {
      "cell_type": "markdown",
      "source": [
        "1. Write a program to take a number as input and convert it into its binary equivalent."
      ],
      "metadata": {
        "id": "6pfxd02yzcPd"
      }
    },
    {
      "cell_type": "code",
      "source": [
        "def decimal_to_binary(num):\n",
        "  if num == 0:\n",
        "      return \"0b0\"\n",
        "\n",
        "  binary = \"\"\n",
        "  while num > 0:\n",
        "      binary = str(num % 2) + binary\n",
        "      num //= 2\n",
        "\n",
        "  return \"0b\" + binary\n",
        "\n",
        "number = int(input(\"Enter a number: \"))\n",
        "\n",
        "binary_equivalent = decimal_to_binary(number)\n",
        "print(\"Binary equivalent:\", binary_equivalent)"
      ],
      "metadata": {
        "colab": {
          "base_uri": "https://localhost:8080/"
        },
        "id": "HdjTq_Yszerh",
        "outputId": "d5bd612a-9d84-431e-d54e-cbf87895a1ea"
      },
      "execution_count": 12,
      "outputs": [
        {
          "output_type": "stream",
          "name": "stdout",
          "text": [
            "Enter a number: 23\n",
            "Binary equivalent: 0b10111\n"
          ]
        }
      ]
    },
    {
      "cell_type": "markdown",
      "source": [
        "2. Write an interactive Python calculator program. The program should allow the user\n",
        "to type a mathematical expression, and then print the value of the expression."
      ],
      "metadata": {
        "id": "sVOsEJIAzqTi"
      }
    },
    {
      "cell_type": "code",
      "source": [
        "def calculator():\n",
        "  while True:\n",
        "    try:\n",
        "      expression = input(\"Enter a mathematical expression (type 'exit' to quit): \")\n",
        "\n",
        "      if expression.lower() == 'exit':\n",
        "        print(\"Exiting calculator...\")\n",
        "        break\n",
        "\n",
        "      result = eval(expression)\n",
        "      print(\"Result:\", result)\n",
        "\n",
        "    except (SyntaxError, NameError, ValueError):\n",
        "      print(\"Invalid expression. Please enter a valid mathematical expression.\")\n",
        "\n",
        "print(\"Welcome to the interactive Python calculator!\")\n",
        "print(\"Type 'exit' to quit.\")\n",
        "\n",
        "calculator()"
      ],
      "metadata": {
        "colab": {
          "base_uri": "https://localhost:8080/"
        },
        "id": "hBytaFrfztCT",
        "outputId": "765685f4-e5c1-4589-9483-164fb4a8e3ea"
      },
      "execution_count": 13,
      "outputs": [
        {
          "output_type": "stream",
          "name": "stdout",
          "text": [
            "Welcome to the interactive Python calculator!\n",
            "Type 'exit' to quit.\n",
            "Enter a mathematical expression (type 'exit' to quit): 1+2\n",
            "Result: 3\n",
            "Enter a mathematical expression (type 'exit' to quit): 2-3\n",
            "Result: -1\n",
            "Enter a mathematical expression (type 'exit' to quit): 3*2\n",
            "Result: 6\n",
            "Enter a mathematical expression (type 'exit' to quit): exit\n",
            "Exiting calculator...\n"
          ]
        }
      ]
    },
    {
      "cell_type": "markdown",
      "source": [
        "3. Translate each of the the following mathematical expressions into an equivalent Python expression. You may assume that the math library has been imported(via import math).\n",
        "\n",
        "  **a**) (3+4)(5)\n",
        "\n",
        "  b) n(n-1)/2\n",
        "\n",
        "  c) 4*pi*r^2\n",
        "\n",
        "  d) root(r(cos a)^2 + r(sin b)^2))\n",
        "\n",
        "  e) (y2-y1) / (x2-x1)"
      ],
      "metadata": {
        "id": "d62x4Rsy0Ekn"
      }
    },
    {
      "cell_type": "code",
      "source": [
        "import math\n",
        "\n",
        "res_a = (3 + 4) * 5\n",
        "print(f\"(a) Result {res_a}\")\n",
        "\n",
        "n = int(input(\"(b) Enter n: \"))\n",
        "res_b = n * (n - 1) / 2\n",
        "print(f\"(b) Result {res_b}\")\n",
        "\n",
        "r = int(input(\"(c) Enter r: \"))\n",
        "res_c = 4 * math.pi * r ** 2\n",
        "print(f\"(c) Result {res_c}\")\n",
        "\n",
        "r = int(input(\"(d) Enter r: \"))\n",
        "a = int(input(\"(d) Enter a: \"))\n",
        "b = int(input(\"(d) Enter b: \"))\n",
        "res_d = math.sqrt(r * (math.cos(math.radians(a))**2) + r * (math.sin(math.radians(b))**2))\n",
        "print(f\"(d) Result {res_d}\")\n",
        "\n",
        "x1 = int(input(\"(e) Enter x1: \"))\n",
        "y1 = int(input(\"(e) Enter y1: \"))\n",
        "x2 = int(input(\"(e) Enter x2: \"))\n",
        "y2 = int(input(\"(e) Enter y2: \"))\n",
        "res_e = (y2 - y1) / (x2 - x1)\n",
        "print(f\"(e) Result {res_e}\")\n"
      ],
      "metadata": {
        "colab": {
          "base_uri": "https://localhost:8080/"
        },
        "id": "cbPFy9jg0sem",
        "outputId": "c9ba0534-cb07-45e3-bf62-c5b287eb84e5"
      },
      "execution_count": 16,
      "outputs": [
        {
          "output_type": "stream",
          "name": "stdout",
          "text": [
            "(a) Result 35\n",
            "(b) Enter n: 10\n",
            "(b) Result 45.0\n",
            "(c) Enter r: 5\n",
            "(c) Result 314.1592653589793\n",
            "(d) Enter r: 5\n",
            "(d) Enter a: 30\n",
            "(d) Enter b: 45\n",
            "(d) Result 2.5\n",
            "(e) Enter x1: 1\n",
            "(e) Enter y1: 3\n",
            "(e) Enter x2: 5\n",
            "(e) Enter y2: 9\n",
            "(e) Result 1.5\n"
          ]
        }
      ]
    },
    {
      "cell_type": "markdown",
      "source": [
        "4. Show the sequence of numbers that would be generated by each of the following\n",
        "range expressions.\n",
        "  \n",
        "  a) range (5)\n",
        "\n",
        "  b) range (3, 10)\n",
        "  \n",
        "  c) range (4, 13, 3)\n",
        "  \n",
        "  d) range (15, 5, -2)\n",
        "  \n",
        "  e) range (5, 3)"
      ],
      "metadata": {
        "id": "o_Amo6mf2eA0"
      }
    },
    {
      "cell_type": "code",
      "source": [
        "print(\"Sequence generated by range(5):\")\n",
        "for num in range(5):\n",
        "    print(num, end=\" \")\n",
        "\n",
        "print(\"\\nSequence generated by range(3, 10):\")\n",
        "for num in range(3, 10):\n",
        "    print(num, end=\" \")\n",
        "\n",
        "print(\"\\nSequence generated by range(4, 13, 3):\")\n",
        "for num in range(4, 13, 3):\n",
        "    print(num, end=\" \")\n",
        "\n",
        "print(\"\\nSequence generated by range(15, 5, -2):\")\n",
        "for num in range(15, 5, -2):\n",
        "    print(num, end=\" \")\n",
        "\n",
        "print(\"\\nSequence generated by range(5, 3):\")\n",
        "for num in range(5, 3):\n",
        "    print(num, end=\" \")"
      ],
      "metadata": {
        "colab": {
          "base_uri": "https://localhost:8080/"
        },
        "id": "Wg9l6L4F2kLv",
        "outputId": "7dc854e3-ec75-49db-ebc7-913e3138a80f"
      },
      "execution_count": 18,
      "outputs": [
        {
          "output_type": "stream",
          "name": "stdout",
          "text": [
            "Sequence generated by range(5):\n",
            "0 1 2 3 4 \n",
            "Sequence generated by range(3, 10):\n",
            "3 4 5 6 7 8 9 \n",
            "Sequence generated by range(4, 13, 3):\n",
            "4 7 10 \n",
            "Sequence generated by range(15, 5, -2):\n",
            "15 13 11 9 7 \n",
            "Sequence generated by range(5, 3):\n"
          ]
        }
      ]
    },
    {
      "cell_type": "markdown",
      "source": [
        "5. Write a program that computes the molecular weight of a carbohydrate (in grams per mole) based on the number of hydrogen, carbon, and oxygen atoms in the molecule. The program should prompt the user to enter the number of hydrogen atoms, the number of carbon atoms, and the number of oxygen atoms. The program then prints the total combined molecular weight of all the atoms based on these individual atom weights:\n",
        "\n",
        "  Atom      Weight(grams/mole)\n",
        "\n",
        "  H                    1.00794\n",
        "\n",
        "  C                    12.0107\n",
        "\n",
        "  O                    15.9994\n",
        "\n",
        "  For example, the molecular weight of water (H2O) is: 2(1.00794) + 15.9994 = 18.01528"
      ],
      "metadata": {
        "id": "mibJIKbJ21ox"
      }
    },
    {
      "cell_type": "code",
      "source": [
        "def calculate_molecular_weight(hydrogen_atoms, carbon_atoms, oxygen_atoms):\n",
        "  hydrogen_weight = 1.00794\n",
        "  carbon_weight = 12.0107\n",
        "  oxygen_weight = 15.9994\n",
        "\n",
        "  total_weight = (hydrogen_atoms * hydrogen_weight) + (carbon_atoms * carbon_weight) + (oxygen_atoms * oxygen_weight)\n",
        "  return total_weight\n",
        "\n",
        "hydrogen_atoms = int(input(\"Enter the number of hydrogen atoms: \"))\n",
        "carbon_atoms = int(input(\"Enter the number of carbon atoms: \"))\n",
        "oxygen_atoms = int(input(\"Enter the number of oxygen atoms: \"))\n",
        "\n",
        "molecular_weight = calculate_molecular_weight(hydrogen_atoms, carbon_atoms, oxygen_atoms)\n",
        "print(\"The molecular weight of the carbohydrate is:\", molecular_weight, \"grams/mole\")"
      ],
      "metadata": {
        "colab": {
          "base_uri": "https://localhost:8080/"
        },
        "id": "W-ci7krD3upy",
        "outputId": "67f7a02f-6aeb-4f0f-8384-4c47d0b3cf4d"
      },
      "execution_count": 19,
      "outputs": [
        {
          "output_type": "stream",
          "name": "stdout",
          "text": [
            "Enter the number of hydrogen atoms: 6\n",
            "Enter the number of carbon atoms: 2\n",
            "Enter the number of oxygen atoms: 1\n",
            "The molecular weight of the carbohydrate is: 46.06844 grams/mole\n"
          ]
        }
      ]
    },
    {
      "cell_type": "markdown",
      "source": [
        "# **Assignment 4**"
      ],
      "metadata": {
        "id": "zSFtzbYz38Dr"
      }
    },
    {
      "cell_type": "markdown",
      "source": [
        "1. A school has following rules for grading system:\n",
        "\n",
        "  a. Below 25 - F\n",
        "\n",
        "  b. 25 to 45 - E\n",
        "\n",
        "  c. 45 to 50 - D\n",
        "\n",
        "  d. 50 to 60 - C\n",
        "\n",
        "  e. 60 to 80 - B\n",
        "\n",
        "  f. Above 80 - A\n",
        "\n",
        "  Ask user to enter marks and print the corresponding grade."
      ],
      "metadata": {
        "id": "cdxgg8zB3_3Z"
      }
    },
    {
      "cell_type": "code",
      "source": [
        "def get_grade(marks):\n",
        "  if marks < 25:\n",
        "    return \"F\"\n",
        "  elif 25 <= marks < 45:\n",
        "    return \"E\"\n",
        "  elif 45 <= marks < 50:\n",
        "    return \"D\"\n",
        "  elif 50 <= marks < 60:\n",
        "    return \"C\"\n",
        "  elif 60 <= marks < 80:\n",
        "    return \"B\"\n",
        "  else:\n",
        "    return \"A\"\n",
        "\n",
        "marks = float(input(\"Enter the marks: \"))\n",
        "\n",
        "if 0 <= marks <= 100:\n",
        "  grade = get_grade(marks)\n",
        "  print(\"Grade:\", grade)\n",
        "else:\n",
        "  print(\"Invalid input. Marks should be between 0 and 100.\")"
      ],
      "metadata": {
        "colab": {
          "base_uri": "https://localhost:8080/"
        },
        "id": "p5U7PTy53_kR",
        "outputId": "4157837e-fd2d-484f-ea48-2f89332ea447"
      },
      "execution_count": 20,
      "outputs": [
        {
          "output_type": "stream",
          "name": "stdout",
          "text": [
            "Enter the marks: 86.5\n",
            "Grade: A\n"
          ]
        }
      ]
    },
    {
      "cell_type": "markdown",
      "source": [
        "2. A year is a leap year if it is divisible by 4, except that years divisible by 100 are not\n",
        "leap years unless they are also divisible by 400. Write a program that asks the user\n",
        "for a year and prints out whether it is a leap year or not."
      ],
      "metadata": {
        "id": "6sfMWx2D4xa_"
      }
    },
    {
      "cell_type": "code",
      "source": [
        "def is_leap_year(year):\n",
        "  if (year % 4 == 0 and year % 100 != 0) or (year % 400 == 0):\n",
        "    return True\n",
        "  else:\n",
        "    return False\n",
        "\n",
        "year = int(input(\"Enter a year: \"))\n",
        "\n",
        "if is_leap_year(year):\n",
        "  print(year, \"is a leap year.\")\n",
        "else:\n",
        "  print(year, \"is not a leap year.\")"
      ],
      "metadata": {
        "colab": {
          "base_uri": "https://localhost:8080/"
        },
        "id": "WgCStVAR40pM",
        "outputId": "30210612-39aa-4cda-dbf8-a2dfb6336ec9"
      },
      "execution_count": 21,
      "outputs": [
        {
          "output_type": "stream",
          "name": "stdout",
          "text": [
            "Enter a year: 2023\n",
            "2023 is not a leap year.\n"
          ]
        }
      ]
    },
    {
      "cell_type": "markdown",
      "source": [
        "3. Write a multiplication game program for kids. The program should give the player\n",
        "ten randomly generated multiplication questions to do.\n",
        "\n",
        "  After each, the program should tell them whether they got it right or wrong and what the correct answer is.\n",
        "\n",
        "  Question 1: 3 x 4 = 12\n",
        "  \n",
        "  Right!\n",
        "\n",
        "  Question 2: 8 x 6 = 44\n",
        "  \n",
        "  Wrong. The answer is 48.\n",
        "  \n",
        "  ...\n",
        "  \n",
        "  ...\n",
        "  \n",
        "  Question 10: 7 x 7 = 49\n",
        "  \n",
        "  Right."
      ],
      "metadata": {
        "id": "9VkoEoFD5H_q"
      }
    },
    {
      "cell_type": "code",
      "source": [
        "import random\n",
        "\n",
        "def multiplication_game():\n",
        "  correct_answers = 0\n",
        "\n",
        "  for i in range(1, 11):\n",
        "    num1 = random.randint(1, 10)\n",
        "    num2 = random.randint(1, 10)\n",
        "    correct_answer = num1 * num2\n",
        "\n",
        "    user_answer = int(input(f\"Question {i}: {num1} x {num2} = \"))\n",
        "\n",
        "    if user_answer == correct_answer:\n",
        "      print(\"Right!\")\n",
        "      correct_answers += 1\n",
        "    else:\n",
        "      print(f\"Wrong. The answer is {correct_answer}.\")\n",
        "\n",
        "  print(f\"You got {correct_answers} out of 10 questions correct.\")\n",
        "\n",
        "print(\"Welcome to the multiplication game!!!\")\n",
        "multiplication_game()\n"
      ],
      "metadata": {
        "colab": {
          "base_uri": "https://localhost:8080/"
        },
        "id": "gMcvev_T50Op",
        "outputId": "51726d8b-c56f-4f81-a951-a2abd5dc77ac"
      },
      "execution_count": 22,
      "outputs": [
        {
          "output_type": "stream",
          "name": "stdout",
          "text": [
            "Welcome to the multiplication game!!!\n",
            "Question 1: 4 x 6 = 24\n",
            "Right!\n",
            "Question 2: 2 x 6 = 12\n",
            "Right!\n",
            "Question 3: 10 x 2 = 20\n",
            "Right!\n",
            "Question 4: 2 x 4 = 8\n",
            "Right!\n",
            "Question 5: 10 x 10 = 100\n",
            "Right!\n",
            "Question 6: 1 x 9 = 9\n",
            "Right!\n",
            "Question 7: 9 x 2 = 18\n",
            "Right!\n",
            "Question 8: 10 x 10 = 100\n",
            "Right!\n",
            "Question 9: 4 x 3 = 12\n",
            "Right!\n",
            "Question 10: 7 x 10 = 70\n",
            "Right!\n",
            "You got 10 out of 10 questions correct.\n"
          ]
        }
      ]
    },
    {
      "cell_type": "markdown",
      "source": [
        "4. A jar of Halloween candy contains an unknown amount of candy and if you can\n",
        "guess exactly how much candy is in the bowl, then you win all the candy. You ask\n",
        "the person in charge the following: If the candy is divided evenly among 5 people,\n",
        "how many pieces would be left over? The answer is 2 pieces. You then ask about\n",
        "dividing the candy evenly among 6 people, and the amount left over is 3 pieces.\n",
        "Finally, you ask about dividing the candy evenly among 7 people, and the amount\n",
        "left over is 2 pieces. By looking at the bowl, you can tell that there are less than\n",
        "200 pieces. Write a program to determine how many pieces are in the bowl."
      ],
      "metadata": {
        "id": "n3F9ysvu6PvX"
      }
    },
    {
      "cell_type": "code",
      "source": [
        "def find_candy_amount():\n",
        "  for x in range(200):\n",
        "    if x % 5 == 2 and x % 6 == 3 and x % 7 == 2:\n",
        "      return x\n",
        "\n",
        "candy_amount = find_candy_amount()\n",
        "print(\"The number of pieces of candy in the bowl is:\", candy_amount)"
      ],
      "metadata": {
        "colab": {
          "base_uri": "https://localhost:8080/"
        },
        "id": "tu7OcOvO6T2z",
        "outputId": "fa0a6c0b-010d-4583-88c2-294f6deffc69"
      },
      "execution_count": 23,
      "outputs": [
        {
          "output_type": "stream",
          "name": "stdout",
          "text": [
            "The number of pieces of candy in the bowl is: 177\n"
          ]
        }
      ]
    },
    {
      "cell_type": "markdown",
      "source": [
        "# **Assignment 5**"
      ],
      "metadata": {
        "id": "EDxsMNTS6fnd"
      }
    },
    {
      "cell_type": "markdown",
      "source": [
        "1. Program to reverse the string."
      ],
      "metadata": {
        "id": "KDVYdChw6iWe"
      }
    },
    {
      "cell_type": "code",
      "source": [
        "def reverse_string(input_string):\n",
        "  return input_string[::-1]\n",
        "\n",
        "input_string = input(\"Enter a string: \")\n",
        "reversed_string = reverse_string(input_string)\n",
        "print(\"Reversed string:\", reversed_string)"
      ],
      "metadata": {
        "colab": {
          "base_uri": "https://localhost:8080/"
        },
        "id": "_CLIUgZf6k4I",
        "outputId": "55019ab2-a2b2-41e1-dac3-556b724f33db"
      },
      "execution_count": 24,
      "outputs": [
        {
          "output_type": "stream",
          "name": "stdout",
          "text": [
            "Enter a string: Chatbots\n",
            "Reversed string: stobtahC\n"
          ]
        }
      ]
    },
    {
      "cell_type": "markdown",
      "source": [
        "2. Python Program to Print all Numbers in a Range Divisible by a Given Number. (user inputs the range\n",
        "and the number)"
      ],
      "metadata": {
        "id": "u11YGDka6uZo"
      }
    },
    {
      "cell_type": "code",
      "source": [
        "def print_divisible_numbers(start, end, divisor):\n",
        "  print(f\"Numbers in the range {start} to {end} divisible by {divisor}:\")\n",
        "  for num in range(start, end + 1):\n",
        "    if num % divisor == 0:\n",
        "      print(num, end=\" \")\n",
        "\n",
        "start = int(input(\"Enter the start of the range: \"))\n",
        "end = int(input(\"Enter the end of the range: \"))\n",
        "divisor = int(input(\"Enter the divisor: \"))\n",
        "\n",
        "print_divisible_numbers(start, end, divisor)"
      ],
      "metadata": {
        "colab": {
          "base_uri": "https://localhost:8080/"
        },
        "id": "s7MrS5x16xza",
        "outputId": "8cdc4c73-a1a0-4f0a-b608-07fb93e89429"
      },
      "execution_count": 25,
      "outputs": [
        {
          "output_type": "stream",
          "name": "stdout",
          "text": [
            "Enter the start of the range: 1\n",
            "Enter the end of the range: 20\n",
            "Enter the divisor: 3\n",
            "Numbers in the range 1 to 20 divisible by 3:\n",
            "3 6 9 12 15 18 "
          ]
        }
      ]
    },
    {
      "cell_type": "markdown",
      "source": [
        "3. Program to calculate the area of a triangle using heron’s formula. (check condition if the combination of\n",
        "sides is possible)."
      ],
      "metadata": {
        "id": "N-LelKJt69U_"
      }
    },
    {
      "cell_type": "code",
      "source": [
        "import math\n",
        "\n",
        "def calculate_area(a, b, c):\n",
        "  if a + b > c and a + c > b and b + c > a:\n",
        "    s = (a + b + c) / 2\n",
        "    area = math.sqrt(s * (s - a) * (s - b) * (s - c))\n",
        "    return area\n",
        "  else:\n",
        "    return None\n",
        "\n",
        "a = float(input(\"Enter the length of side a: \"))\n",
        "b = float(input(\"Enter the length of side b: \"))\n",
        "c = float(input(\"Enter the length of side c: \"))\n",
        "\n",
        "area = calculate_area(a, b, c)\n",
        "\n",
        "if area is not None:\n",
        "  print(\"Area of the triangle:\", area)\n",
        "else:\n",
        "  print(\"Invalid side lengths. Triangle cannot be formed.\")\n"
      ],
      "metadata": {
        "colab": {
          "base_uri": "https://localhost:8080/"
        },
        "id": "XLceqEUb6_6t",
        "outputId": "ad7e86df-c8d1-47b1-a8c8-3d5d58f2a525"
      },
      "execution_count": 26,
      "outputs": [
        {
          "output_type": "stream",
          "name": "stdout",
          "text": [
            "Enter the length of side a: 3\n",
            "Enter the length of side b: 4\n",
            "Enter the length of side c: 5\n",
            "Area of the triangle: 6.0\n"
          ]
        }
      ]
    },
    {
      "cell_type": "markdown",
      "source": [
        "4. Write a Python program to construct the following pattern, using a nested for loop. (star pattern)"
      ],
      "metadata": {
        "id": "mqiyDHSC7aT9"
      }
    },
    {
      "cell_type": "code",
      "source": [
        "n = 5\n",
        "for i in range(1, n + 1):\n",
        "  for j in range(i):\n",
        "    print(\"*\", end=\" \")\n",
        "  print()\n",
        "\n",
        "for i in range(n - 1, 0, -1):\n",
        "  for j in range(i):\n",
        "    print(\"*\", end=\" \")\n",
        "  print()"
      ],
      "metadata": {
        "colab": {
          "base_uri": "https://localhost:8080/"
        },
        "id": "gBQJqtc57eqU",
        "outputId": "b580ac0b-bb11-4cdb-94b3-4dd683a45019"
      },
      "execution_count": 28,
      "outputs": [
        {
          "output_type": "stream",
          "name": "stdout",
          "text": [
            "* \n",
            "* * \n",
            "* * * \n",
            "* * * * \n",
            "* * * * * \n",
            "* * * * \n",
            "* * * \n",
            "* * \n",
            "* \n"
          ]
        }
      ]
    },
    {
      "cell_type": "markdown",
      "source": [
        "5. Write a python program to print a triangular pattern of the alphabet (user input the number of rows).\n",
        "\n",
        "  Example: Input the number of rows = 5, then the pattern should come out as given below.\n",
        "\n",
        "  If the count of the alphabet gets exhausted, repeat the alphabet from A.\n",
        "\n",
        "  A\n",
        "  \n",
        "  BC\n",
        "  \n",
        "  DEF\n",
        "  \n",
        "  GHIJ\n",
        "  \n",
        "  KLMNO"
      ],
      "metadata": {
        "id": "Tt_-EHhX7u2w"
      }
    },
    {
      "cell_type": "code",
      "source": [
        "def print_alphabet_triangle(rows):\n",
        "  current_alphabet = ord('A')\n",
        "\n",
        "  for i in range(1, rows + 1):\n",
        "    for j in range(i):\n",
        "      print(chr(current_alphabet), end=\"\")\n",
        "      current_alphabet += 1\n",
        "      if current_alphabet > ord('Z'):\n",
        "        current_alphabet = ord('A')\n",
        "    print()\n",
        "\n",
        "rows = int(input(\"Enter the number of rows: \"))\n",
        "print_alphabet_triangle(rows)"
      ],
      "metadata": {
        "colab": {
          "base_uri": "https://localhost:8080/"
        },
        "id": "zfFsAwRO74t4",
        "outputId": "ab3d2287-7960-49c9-db1f-3a08ccdf43b8"
      },
      "execution_count": 29,
      "outputs": [
        {
          "output_type": "stream",
          "name": "stdout",
          "text": [
            "Enter the number of rows: 5\n",
            "A\n",
            "BC\n",
            "DEF\n",
            "GHIJ\n",
            "KLMNO\n"
          ]
        }
      ]
    },
    {
      "cell_type": "markdown",
      "source": [
        "6. Write a python program to print the prime numbers for a user input range."
      ],
      "metadata": {
        "id": "WARwb7DA8Na3"
      }
    },
    {
      "cell_type": "code",
      "source": [
        "def is_prime(num):\n",
        "  if num <= 1:\n",
        "    return False\n",
        "  if num <= 3:\n",
        "    return True\n",
        "  if num % 2 == 0 or num % 3 == 0:\n",
        "    return False\n",
        "\n",
        "  i = 5\n",
        "  while i * i <= num:\n",
        "    if num % i == 0 or num % (i + 2) == 0:\n",
        "      return False\n",
        "    i += 6\n",
        "  return True\n",
        "\n",
        "start = int(input(\"Enter the start of the range: \"))\n",
        "end = int(input(\"Enter the end of the range: \"))\n",
        "\n",
        "print(f\"Prime numbers in the range {start} to {end}:\")\n",
        "for num in range(start, end + 1):\n",
        "  if is_prime(num):\n",
        "    print(num, end=\" \")"
      ],
      "metadata": {
        "colab": {
          "base_uri": "https://localhost:8080/"
        },
        "id": "0HHO-p0E8RQw",
        "outputId": "60a8f51a-b556-4ba2-c92f-6a10f11d6954"
      },
      "execution_count": 30,
      "outputs": [
        {
          "output_type": "stream",
          "name": "stdout",
          "text": [
            "Enter the start of the range: 1 \n",
            "Enter the end of the range: 20\n",
            "Prime numbers in the range 1 to 20:\n",
            "2 3 5 7 11 13 17 19 "
          ]
        }
      ]
    },
    {
      "cell_type": "markdown",
      "source": [
        "7. Write a python program to find the numbers which are multiple of 7 and divisible by 11 in the range\n",
        "1-500."
      ],
      "metadata": {
        "id": "vaTeeHzl8d0y"
      }
    },
    {
      "cell_type": "code",
      "source": [
        "def find_numbers():\n",
        "  for num in range(1, 501):\n",
        "    if num % 7 == 0 and num % 11 == 0:\n",
        "      print(num, end=\" \")\n",
        "\n",
        "print(\"Numbers between 1 and 500 which are multiples of 7 and divisible by 11:\")\n",
        "find_numbers()"
      ],
      "metadata": {
        "colab": {
          "base_uri": "https://localhost:8080/"
        },
        "id": "bRhX7Wy98gPT",
        "outputId": "aaffb641-dca8-4a83-df46-0dec260423df"
      },
      "execution_count": 31,
      "outputs": [
        {
          "output_type": "stream",
          "name": "stdout",
          "text": [
            "Numbers between 1 and 500 which are multiples of 7 and divisible by 11:\n",
            "77 154 231 308 385 462 "
          ]
        }
      ]
    },
    {
      "cell_type": "markdown",
      "source": [
        "8. Input 10 integer values from the user. Write a python program to find and print the following:\n",
        "\n",
        "  a. positive numbers\n",
        "  \n",
        "  b. negative numbers\n",
        "  \n",
        "  c. odd numbers\n",
        "  \n",
        "  d. even numbers\n",
        "  \n",
        "  e. Number of times each number occurs in the List"
      ],
      "metadata": {
        "id": "8s1qxk-o8ui7"
      }
    },
    {
      "cell_type": "code",
      "source": [
        "numbers = []\n",
        "for _ in range(10):\n",
        "  num = int(input(\"Enter an integer: \"))\n",
        "  numbers.append(num)\n",
        "\n",
        "print(\"Positive numbers:\", [num for num in numbers if num > 0])\n",
        "print(\"Negative numbers:\", [num for num in numbers if num < 0])\n",
        "print(\"Odd numbers:\", [num for num in numbers if num % 2 != 0])\n",
        "print(\"Even numbers:\", [num for num in numbers if num % 2 == 0])\n",
        "\n",
        "number_counts = {}\n",
        "for num in numbers:\n",
        "    if num in number_counts:\n",
        "        number_counts[num] += 1\n",
        "    else:\n",
        "        number_counts[num] = 1\n",
        "\n",
        "print(\"Number of times each number occurs:\")\n",
        "for num, count in number_counts.items():\n",
        "    print(f\"{num}: {count} times\")"
      ],
      "metadata": {
        "colab": {
          "base_uri": "https://localhost:8080/"
        },
        "id": "MKFpMBTD81Jb",
        "outputId": "9400ceee-12e7-402c-e956-b91027dec57b"
      },
      "execution_count": 32,
      "outputs": [
        {
          "output_type": "stream",
          "name": "stdout",
          "text": [
            "Enter an integer: -5 \n",
            "Enter an integer: -4\n",
            "Enter an integer: -3\n",
            "Enter an integer: -2\n",
            "Enter an integer: -1\n",
            "Enter an integer: 1\n",
            "Enter an integer: 2\n",
            "Enter an integer: 3\n",
            "Enter an integer: 4\n",
            "Enter an integer: 5\n",
            "Positive numbers: [1, 2, 3, 4, 5]\n",
            "Negative numbers: [-5, -4, -3, -2, -1]\n",
            "Odd numbers: [-5, -3, -1, 1, 3, 5]\n",
            "Even numbers: [-4, -2, 2, 4]\n",
            "Number of times each number occurs:\n",
            "-5: 1 times\n",
            "-4: 1 times\n",
            "-3: 1 times\n",
            "-2: 1 times\n",
            "-1: 1 times\n",
            "1: 1 times\n",
            "2: 1 times\n",
            "3: 1 times\n",
            "4: 1 times\n",
            "5: 1 times\n"
          ]
        }
      ]
    },
    {
      "cell_type": "markdown",
      "source": [
        "9. Write a program to count the number of occurrences of each word in the list(List entered by the user)."
      ],
      "metadata": {
        "id": "Dk7FVndQ9V01"
      }
    },
    {
      "cell_type": "code",
      "source": [
        "def count_word_occurrences(word_list):\n",
        "  word_counts = {}\n",
        "  for word in word_list:\n",
        "    if word in word_counts:\n",
        "      word_counts[word] += 1\n",
        "    else:\n",
        "      word_counts[word] = 1\n",
        "  return word_counts\n",
        "\n",
        "input_str = input(\"Enter a list of words separated by spaces: \")\n",
        "word_list = input_str.split()\n",
        "\n",
        "word_occurrences = count_word_occurrences(word_list)\n",
        "\n",
        "print(\"Number of occurrences of each word:\")\n",
        "for word, count in word_occurrences.items():\n",
        "  print(f\"{word}: {count} times\")"
      ],
      "metadata": {
        "colab": {
          "base_uri": "https://localhost:8080/"
        },
        "id": "rPkK9Nmp9W3a",
        "outputId": "7d292699-4731-4d71-fb79-81d6a5f6c969"
      },
      "execution_count": 33,
      "outputs": [
        {
          "output_type": "stream",
          "name": "stdout",
          "text": [
            "Enter a list of words separated by spaces: hi this is Jasleen\n",
            "Number of occurrences of each word:\n",
            "hi: 1 times\n",
            "this: 1 times\n",
            "is: 1 times\n",
            "Jasleen: 1 times\n"
          ]
        }
      ]
    },
    {
      "cell_type": "markdown",
      "source": [
        "# **Assignment 6**"
      ],
      "metadata": {
        "id": "pcltCF7H9qxw"
      }
    },
    {
      "cell_type": "markdown",
      "source": [
        "1. Write a Python function to check whether a number is perfect or not. According to\n",
        "Wikipedia : In number theory, a perfect number is a positive integer that is equal to the\n",
        "sum of its proper positive divisors, that is, the sum of its positive divisors excluding the\n",
        "number itself (also known as its aliquot sum). Equivalently, a perfect number is a\n",
        "number that is half the sum of all of its positive divisors (including itself)."
      ],
      "metadata": {
        "id": "SSujpf519unv"
      }
    },
    {
      "cell_type": "code",
      "source": [
        "def is_perfect_number(num):\n",
        "  if num <= 0:\n",
        "    return False\n",
        "  divisor_sum = 0\n",
        "  for i in range(1, num):\n",
        "    if num % i == 0:\n",
        "      divisor_sum += i\n",
        "  return divisor_sum == num\n",
        "\n",
        "number = int(input(\"Enter a positive integer: \"))\n",
        "\n",
        "if is_perfect_number(number):\n",
        "  print(number, \"is a perfect number.\")\n",
        "else:\n",
        "  print(number, \"is not a perfect number.\")"
      ],
      "metadata": {
        "colab": {
          "base_uri": "https://localhost:8080/"
        },
        "id": "MYhZzJEB9uDN",
        "outputId": "02c39ad2-5aa8-4e41-a699-018a14370739"
      },
      "execution_count": 34,
      "outputs": [
        {
          "output_type": "stream",
          "name": "stdout",
          "text": [
            "Enter a positive integer: 34\n",
            "34 is not a perfect number.\n"
          ]
        }
      ]
    },
    {
      "cell_type": "markdown",
      "source": [
        "2. Write a Python function that checks whether a passed string is palindrome or not. Note:\n",
        "A palindrome is a word, phrase, or sequence that reads the same backward as forward,\n",
        "e.g., madam or nurses run."
      ],
      "metadata": {
        "id": "SnwnAzJl99Os"
      }
    },
    {
      "cell_type": "code",
      "source": [
        "def is_palindrome(string):\n",
        "  cleaned_string = ''.join(filter(str.isalnum, string)).lower()\n",
        "  return cleaned_string == cleaned_string[::-1]\n",
        "\n",
        "input_string = input(\"Enter a string: \")\n",
        "\n",
        "if is_palindrome(input_string):\n",
        "  print(\"The string is a palindrome.\")\n",
        "else:\n",
        "  print(\"The string is not a palindrome.\")\n"
      ],
      "metadata": {
        "colab": {
          "base_uri": "https://localhost:8080/"
        },
        "id": "0BBZkOsy-DhP",
        "outputId": "a6127c90-a41e-4e5c-e296-4bedad1ec751"
      },
      "execution_count": 35,
      "outputs": [
        {
          "output_type": "stream",
          "name": "stdout",
          "text": [
            "Enter a string: madam\n",
            "The string is a palindrome.\n"
          ]
        }
      ]
    },
    {
      "cell_type": "markdown",
      "source": [
        "3. Write a Python function that prints out the first n rows of Pascal's triangle.\n",
        "\n",
        "  Note:\n",
        "  Pascal's triangle is an arithmetic and geometric figure first imagined by Blaise Pascal.\n",
        "  Sample Pascal's triangle:\n",
        "\n",
        "  <img src=\"https://imgs.search.brave.com/_Dvj3GNcWDY51dGB8z90XzybCy0vcmTI_TxDVLxf9jo/rs:fit:500:0:0/g:ce/aHR0cHM6Ly9tZWRp/YS5nZWVrc2Zvcmdl/ZWtzLm9yZy93cC1j/b250ZW50L3VwbG9h/ZHMvMjAyMzA1MzEx/NTM2NDAvcGFzY2Fs/LXRyaWFuZ2xlLTMt/cm93LlBORw\"/>"
      ],
      "metadata": {
        "id": "QLLVeJ-4-YbO"
      }
    },
    {
      "cell_type": "code",
      "source": [
        "def generate_pascals_triangle(n):\n",
        "  triangle = []\n",
        "\n",
        "  for i in range(n):\n",
        "    row = [1]\n",
        "    if i > 0:\n",
        "      prev_row = triangle[i - 1]\n",
        "      for j in range(1, i):\n",
        "        row.append(prev_row[j - 1] + prev_row[j])\n",
        "      row.append(1)\n",
        "    triangle.append(row)\n",
        "  return triangle\n",
        "\n",
        "def print_pascals_triangle(triangle):\n",
        "  for row in triangle:\n",
        "    print(' '.join(map(str, row)).center(len(triangle[-1]) * 3))\n",
        "\n",
        "n = int(input(\"Enter the number of rows for Pascal's triangle: \"))\n",
        "triangle = generate_pascals_triangle(n)\n",
        "print_pascals_triangle(triangle)"
      ],
      "metadata": {
        "colab": {
          "base_uri": "https://localhost:8080/"
        },
        "id": "JAtxPL4x-oOP",
        "outputId": "b224d640-2ae0-4b9d-c620-4ac23a8f4071"
      },
      "execution_count": 36,
      "outputs": [
        {
          "output_type": "stream",
          "name": "stdout",
          "text": [
            "Enter the number of rows for Pascal's triangle: 5\n",
            "       1       \n",
            "      1 1      \n",
            "     1 2 1     \n",
            "    1 3 3 1    \n",
            "   1 4 6 4 1   \n"
          ]
        }
      ]
    },
    {
      "cell_type": "markdown",
      "source": [
        "4. Write a Python function to check whether a string is a pangram or not. Note: Pangrams\n",
        "are words or sentences containing every letter of the alphabet at least once. For\n",
        "example: \"The quick brown fox jumps over the lazy dog\""
      ],
      "metadata": {
        "id": "y0mkLMnQ_C-g"
      }
    },
    {
      "cell_type": "code",
      "source": [
        "def is_pangram(string):\n",
        "  alphabet = \"abcdefghijklmnopqrstuvwxyz\"\n",
        "\n",
        "  for char in alphabet:\n",
        "    if char not in string.lower():\n",
        "      return False\n",
        "  return True\n",
        "\n",
        "input_string = input(\"Enter a string: \")\n",
        "\n",
        "if is_pangram(input_string):\n",
        "  print(\"The string is a pangram.\")\n",
        "else:\n",
        "  print(\"The string is not a pangram.\")\n"
      ],
      "metadata": {
        "colab": {
          "base_uri": "https://localhost:8080/"
        },
        "id": "QmQI1uCt_HR5",
        "outputId": "226d661e-cc82-4139-8101-8019c4801ae7"
      },
      "execution_count": 37,
      "outputs": [
        {
          "output_type": "stream",
          "name": "stdout",
          "text": [
            "Enter a string: The quick brown fox jumps over the lazy dog\n",
            "The string is a pangram.\n"
          ]
        }
      ]
    },
    {
      "cell_type": "markdown",
      "source": [
        "5. Write a Python function that accepts a hyphen-separated sequence of words as input\n",
        "and prints the words in a hyphen-separated sequence after sorting them alphabetically.\n",
        "Sample Items : green-red-yellow-black-white\n",
        "\n",
        "  Expected Result : black-green-red-white-yellow"
      ],
      "metadata": {
        "id": "Y1lPcPg-_ni2"
      }
    },
    {
      "cell_type": "code",
      "source": [
        "def sort_and_print_hyphen_separated_sequence(input_string):\n",
        "  words = input_string.split('-')\n",
        "  sorted_words = sorted(words)\n",
        "  sorted_sequence = '-'.join(sorted_words)\n",
        "  print(\"Sorted sequence:\", sorted_sequence)\n",
        "\n",
        "input_sequence = input(\"Enter a hyphen-separated sequence of words: \")\n",
        "sort_and_print_hyphen_separated_sequence(input_sequence)"
      ],
      "metadata": {
        "colab": {
          "base_uri": "https://localhost:8080/"
        },
        "id": "fjvI6gLw_sZ1",
        "outputId": "88e3e9b6-9acd-43eb-f8d5-d5cfed0cd632"
      },
      "execution_count": 38,
      "outputs": [
        {
          "output_type": "stream",
          "name": "stdout",
          "text": [
            "Enter a hyphen-separated sequence of words: green-red-yellow-black-white\n",
            "Sorted sequence: black-green-red-white-yellow\n"
          ]
        }
      ]
    },
    {
      "cell_type": "markdown",
      "source": [
        "6. Write a Python function student_data () which will print the id of a student (student_id).\n",
        "If the user passes an argument student_name or student_class the function will print the\n",
        "student name and class."
      ],
      "metadata": {
        "id": "TCog7XOB_4gY"
      }
    },
    {
      "cell_type": "code",
      "source": [
        "def student_data(student_id, student_name=None, student_class=None):\n",
        "  print(\"Student ID:\", student_id)\n",
        "  if student_name is not None:\n",
        "    print(\"Student Name:\", student_name)\n",
        "  if student_class is not None:\n",
        "    print(\"Student Class:\", student_class)\n",
        "\n",
        "id_input = input(\"Enter student ID: \")\n",
        "name_input = input(\"Enter student name (optional): \")\n",
        "class_input = input(\"Enter student class (optional): \")\n",
        "\n",
        "student_data(id_input, name_input, class_input)"
      ],
      "metadata": {
        "colab": {
          "base_uri": "https://localhost:8080/"
        },
        "id": "fuk0fdDT_74M",
        "outputId": "d3351bc0-267e-4ac7-c542-7ec9bed6024e"
      },
      "execution_count": 39,
      "outputs": [
        {
          "output_type": "stream",
          "name": "stdout",
          "text": [
            "Enter student ID: 1\n",
            "Enter student name (optional): Jasleen\n",
            "Enter student class (optional): \n",
            "Student ID: 1\n",
            "Student Name: Jasleen\n",
            "Student Class: \n"
          ]
        }
      ]
    },
    {
      "cell_type": "markdown",
      "source": [
        "7. Write a Python program to create two empty classes, Student and Marks. Now create\n",
        "some instances and check whether they are instances of the said classes or not. Also,\n",
        "check whether the said classes are subclasses of the built-in object class or not."
      ],
      "metadata": {
        "id": "nCeM9Fm6AKC_"
      }
    },
    {
      "cell_type": "code",
      "source": [
        "class Student:\n",
        "  pass\n",
        "\n",
        "class Marks:\n",
        "  pass\n",
        "\n",
        "student_instance = Student()\n",
        "marks_instance = Marks()\n",
        "\n",
        "print(\"Is student_instance an instance of Student class?\", isinstance(student_instance, Student))\n",
        "print(\"Is marks_instance an instance of Marks class?\", isinstance(marks_instance, Marks))\n",
        "\n",
        "print(\"Is Student class a subclass of object class?\", issubclass(Student, object))\n",
        "print(\"Is Marks class a subclass of object class?\", issubclass(Marks, object))"
      ],
      "metadata": {
        "colab": {
          "base_uri": "https://localhost:8080/"
        },
        "id": "PNB2B5wSANF5",
        "outputId": "b8497416-b71e-40bf-f1ab-deef2ce07a0c"
      },
      "execution_count": 40,
      "outputs": [
        {
          "output_type": "stream",
          "name": "stdout",
          "text": [
            "Is student_instance an instance of Student class? True\n",
            "Is marks_instance an instance of Marks class? True\n",
            "Is Student class a subclass of object class? True\n",
            "Is Marks class a subclass of object class? True\n"
          ]
        }
      ]
    },
    {
      "cell_type": "markdown",
      "source": [
        "8. Write a Python class to find the three elements that sum to zero from a set of n real\n",
        "numbers.\n",
        "  \n",
        "  Input array: [-25, -10, -7, -3, 2, 4, 8, 10]\n",
        "\n",
        "  Output: [[-10, 2, 8], [-7, -3, 10]]"
      ],
      "metadata": {
        "id": "dAKFu15iAX8G"
      }
    },
    {
      "cell_type": "code",
      "source": [
        "class ThreeSum:\n",
        "  def __init__(self, nums):\n",
        "    self.nums = nums\n",
        "\n",
        "  def find_three_sum(self):\n",
        "    res = []\n",
        "    n = len(self.nums)\n",
        "    self.nums.sort()\n",
        "\n",
        "    for i in range(n-2):\n",
        "      if i>0 and self.nums[i] == self.nums[i-1]: continue\n",
        "      left, right = i+1, n-1\n",
        "\n",
        "      while left<right:\n",
        "        total = self.nums[i] + self.nums[left] + self.nums[right]\n",
        "        if total == 0:\n",
        "          res.append([self.nums[i], self.nums[left], self.nums[right]])\n",
        "          while left < right and self.nums[left] == self.nums[left + 1]:\n",
        "            left += 1\n",
        "          while left < right and self.nums[right] == self.nums[right - 1]:\n",
        "            right -= 1\n",
        "          left += 1\n",
        "          right -= 1\n",
        "        elif total < 0:\n",
        "          left += 1\n",
        "        else:\n",
        "          right -= 1\n",
        "    return res\n",
        "\n",
        "input_array = list(map(int, input(\"Enter an array of numbers separated by spaces: \").split()))\n",
        "three_sum_obj = ThreeSum(input_array)\n",
        "result = three_sum_obj.find_three_sum()\n",
        "\n",
        "print(\"Output:\", result)"
      ],
      "metadata": {
        "colab": {
          "base_uri": "https://localhost:8080/"
        },
        "id": "nehoC33BAdYG",
        "outputId": "023cec75-e3d4-47e3-a86c-e766758acbfd"
      },
      "execution_count": 42,
      "outputs": [
        {
          "output_type": "stream",
          "name": "stdout",
          "text": [
            "Enter an array of numbers separated by spaces: -25 -10 -7 -3 2 4 8 10\n",
            "Output: [[-10, 2, 8], [-7, -3, 10]]\n"
          ]
        }
      ]
    },
    {
      "cell_type": "markdown",
      "source": [
        "9. Write a Python class to find validity of a string of parentheses, '(', ')', '{', '}', '[' and '].\n",
        "These brackets must be close in the correct order, for example \"()\" and \"()[]{}\" are valid\n",
        "but \"[)\", \"({[)]\" and \"{{{\" are invalid."
      ],
      "metadata": {
        "id": "tfsjySxBBel5"
      }
    },
    {
      "cell_type": "code",
      "source": [
        "class ParenthesesValidator:\n",
        "  def __init__(self, input_string):\n",
        "    self.input_string = input_string\n",
        "\n",
        "  def is_valid(self):\n",
        "    stack = []\n",
        "    mapping = {')': '(', '}': '{', ']': '['}\n",
        "\n",
        "    for char in self.input_string:\n",
        "      if char in '({[':\n",
        "        stack.append(char)\n",
        "      elif char in ')}]':\n",
        "        if not stack or mapping[char] != stack.pop():\n",
        "            return False\n",
        "\n",
        "    return not stack\n",
        "\n",
        "input_string = input(\"Enter a string of parentheses, curly braces, and square brackets: \")\n",
        "validator = ParenthesesValidator(input_string)\n",
        "\n",
        "if validator.is_valid():\n",
        "  print(\"The string is valid.\")\n",
        "else:\n",
        "  print(\"The string is invalid.\")"
      ],
      "metadata": {
        "colab": {
          "base_uri": "https://localhost:8080/"
        },
        "id": "vdvA8hnuBh0C",
        "outputId": "40802f6a-81b8-4026-8588-7de6eb41cd19"
      },
      "execution_count": 43,
      "outputs": [
        {
          "output_type": "stream",
          "name": "stdout",
          "text": [
            "Enter a string of parentheses, curly braces, and square brackets: {{{\n",
            "The string is invalid.\n"
          ]
        }
      ]
    }
  ]
}