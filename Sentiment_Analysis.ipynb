{
 "cells": [
  {
   "cell_type": "code",
   "execution_count": 1,
   "metadata": {},
   "outputs": [
    {
     "name": "stdout",
     "output_type": "stream",
     "text": [
      "# Starting io.deephaven.python.server.EmbeddedServer\n",
      "deephaven.cacheDir=/home/jasleen/.cache/deephaven\n",
      "deephaven.configDir=/home/jasleen/.config/deephaven\n",
      "deephaven.dataDir=/home/jasleen/.local/share/deephaven\n",
      "# io.deephaven.internal.log.LoggerFactoryServiceLoaderImpl: searching for 'io.deephaven.internal.log.LoggerFactory'...\n",
      "# io.deephaven.internal.log.LoggerFactoryServiceLoaderImpl: found 'io.deephaven.internal.log.LoggerFactorySlf4j'\n",
      "Server started on port 3000\n"
     ]
    }
   ],
   "source": [
    "from deephaven_server import Server\n",
    "s = Server(port=3000, jvm_args=[\"-Xmx4g\"])\n",
    "s.start()"
   ]
  },
  {
   "cell_type": "code",
   "execution_count": 8,
   "metadata": {},
   "outputs": [
    {
     "data": {
      "text/plain": [
       "deephaven.table.Table(io.deephaven.engine.table.Table(objectRef=0x5a724a8, num_rows = 13871, columns = {'text': ja...}))"
      ]
     },
     "execution_count": 8,
     "metadata": {},
     "output_type": "execute_result"
    }
   ],
   "source": [
    "from deephaven import read_csv\n",
    "import pandas as pd\n",
    "\n",
    "sentiment = read_csv(\"https://media.githubusercontent.com/media/deephaven/examples/main/Sentiment/csv/sentiment.csv\")\n",
    "sentiment = sentiment.view([\"text\", \"sentiment\"]).where(\"sentiment != 'neutral'\")\n",
    "sentiment\n"
   ]
  },
  {
   "cell_type": "code",
   "execution_count": 40,
   "metadata": {},
   "outputs": [
    {
     "data": {
      "text/plain": [
       "deephaven.table.Table(io.deephaven.engine.table.Table(objectRef=0x9ed3fc8, num_rows = 13871, columns = {'Tokenized...}))"
      ]
     },
     "metadata": {},
     "output_type": "display_data"
    }
   ],
   "source": [
    "# from deephaven import dataFrameToTable, tableToDataFrame\n",
    "from deephaven import pandas as dhpd\n",
    "from deephaven_ipywidgets import DeephavenWidget\n",
    "\n",
    "from tensorflow.keras.preprocessing.sequence import pad_sequences\n",
    "from tensorflow.keras.preprocessing.text import Tokenizer\n",
    "import pandas as pd\n",
    "import numpy as np\n",
    "import re\n",
    "\n",
    "def update_text(text):\n",
    "    return re.sub(\"[^a-zA-z0-9\\s]\", \"\", text.lower()).replace(\"rt\", \" \")\n",
    "\n",
    "sentiment = sentiment.update(\"text = update_text(text)\")\n",
    "df_sentiment = dhpd.to_pandas(sentiment)\n",
    "# print(df_sentiment)\n",
    "# df_sentiment = tableToDataFrame(sentiment)\n",
    "\n",
    "max_features = 2000\n",
    "tokenizer = Tokenizer(num_words=max_features, split=\" \")\n",
    "tokenizer.fit_on_texts(df_sentiment[\"text\"].values)\n",
    "\n",
    "x = tokenizer.texts_to_sequences(df_sentiment[\"text\"].values)\n",
    "x = pad_sequences(x)\n",
    "y = pd.get_dummies(df_sentiment[\"sentiment\"]).values\n",
    "\n",
    "data_tokenized = np.hstack((x, y))\n",
    "# print(data_tokenized.shape)\n",
    "\n",
    "x_col_names = [\"Tokenized_\" + str(i) for i in range(x.shape[1])]\n",
    "y_col_names = [\"Negative\", \"Positive\"]\n",
    "col_names = x_col_names + y_col_names + [\"Extra_Column\"]\n",
    "# print(len(col_names))\n",
    "\n",
    "df_tokenized = pd.DataFrame(data_tokenized, columns=col_names)\n",
    "tokenized_sentiment = dhpd.to_table(df_tokenized)\n",
    "print(tokenized_sentiment)"
   ]
  },
  {
   "cell_type": "code",
   "execution_count": 42,
   "metadata": {},
   "outputs": [
    {
     "name": "stdout",
     "output_type": "stream",
     "text": [
      "Model: \"sequential_1\"\n",
      "_________________________________________________________________\n",
      " Layer (type)                Output Shape              Param #   \n",
      "=================================================================\n",
      " embedding_1 (Embedding)     (None, 28, 128)           256000    \n",
      "                                                                 \n",
      " spatial_dropout1d_1 (Spati  (None, 28, 128)           0         \n",
      " alDropout1D)                                                    \n",
      "                                                                 \n",
      " lstm_1 (LSTM)               (None, 196)               254800    \n",
      "                                                                 \n",
      " dense_1 (Dense)             (None, 2)                 394       \n",
      "                                                                 \n",
      "=================================================================\n",
      "Total params: 511194 (1.95 MB)\n",
      "Trainable params: 511194 (1.95 MB)\n",
      "Non-trainable params: 0 (0.00 Byte)\n",
      "_________________________________________________________________\n",
      "None\n"
     ]
    }
   ],
   "source": [
    "from tensorflow.keras.models import Sequential\n",
    "from tensorflow.keras.layers import Dense, Embedding, LSTM, SpatialDropout1D\n",
    "\n",
    "embed_dim = 128\n",
    "lstm_out = 196\n",
    "max_features = 2000\n",
    "\n",
    "sa_model = Sequential()\n",
    "sa_model.add(Embedding(max_features, embed_dim, input_length=x.shape[1]))\n",
    "sa_model.add(SpatialDropout1D(0.4))\n",
    "sa_model.add(LSTM(lstm_out, dropout=0.2, recurrent_dropout=0.2))\n",
    "sa_model.add(Dense(2, activation=\"softmax\"))\n",
    "\n",
    "sa_model.compile(loss=\"categorical_crossentropy\", optimizer=\"adam\", metrics=[\"accuracy\"])\n",
    "\n",
    "print(sa_model.summary())\n"
   ]
  },
  {
   "cell_type": "code",
   "execution_count": 51,
   "metadata": {},
   "outputs": [
    {
     "name": "stdout",
     "output_type": "stream",
     "text": [
      "No of rows in train table: 9293\n",
      "No of rows in test table: 4578\n"
     ]
    }
   ],
   "source": [
    "split_pct = 67\n",
    "\n",
    "def split_train_test(x, y, split_percentage):\n",
    "    random_seeds = np.random.rand(x.shape[0])\n",
    "    split = random_seeds < np.percentile(random_seeds, split_percentage)\n",
    "    return x[split], x[~split], y[split], y[~split]\n",
    "\n",
    "x_train, x_test, y_train, y_test = split_train_test(x, y, split_pct)\n",
    "train_table = dhpd.to_table(pd.DataFrame(np.hstack((x_train, y_train)), columns=col_names))\n",
    "test_table = dhpd.to_table(pd.DataFrame(np.hstack((x_test, y_test)), columns=col_names))\n",
    "\n",
    "print(f\"No of rows in train table: {train_table.size}\")\n",
    "print(f\"No of rows in test table: {test_table.size}\")\n"
   ]
  },
  {
   "cell_type": "code",
   "execution_count": 47,
   "metadata": {},
   "outputs": [],
   "source": [
    "from deephaven.learn import gather\n",
    "from deephaven import learn\n",
    "\n",
    "def table_to_numpy_int(rows, colums):\n",
    "    return gather.table_to_numpy_2d(rows, columns, dtype=np.intc)\n",
    "\n",
    "def numpy_to_table(data, index):\n",
    "    return data \n"
   ]
  },
  {
   "cell_type": "code",
   "execution_count": 55,
   "metadata": {},
   "outputs": [
    {
     "ename": "DHError",
     "evalue": "failed to complete the learn function. : java.lang.RuntimeException: Error in Python interpreter:\nTraceback (most recent call last):\n  File \"/home/jasleen/Desktop/Thapar/Conversational-Systems/venv/lib/python3.11/site-packages/deephaven/table.py\", line 835, in update\n    return Table(j_table=self.j_table.update(*formulas))\n                         ^^^^^^^^^^^^^^^^^^^^^^^^^^^^^^\nRuntimeError: io.deephaven.engine.table.impl.select.FormulaEvaluationException: In formula: __Result = __FutureOffset.getFuture().get()\n\tat io.deephaven.temp.c_e8f972fea24b61ddb3040ab5d9d410aa77dcfcab3f03acd580841d541a46769bv55_0.Formula.applyFormulaPerItem(Formula.java:153)\n\tat io.deephaven.temp.c_e8f972fea24b61ddb3040ab5d9d410aa77dcfcab3f03acd580841d541a46769bv55_0.Formula.lambda$fillChunkHelper$4(Formula.java:142)\n\tat io.deephaven.engine.rowset.RowSequence.lambda$forAllRowKeys$0(RowSequence.java:175)\n\tat io.deephaven.engine.rowset.impl.singlerange.SingleRangeMixin.forEachRowKey(SingleRangeMixin.java:17)\n\tat io.deephaven.engine.rowset.RowSequence.forAllRowKeys(RowSequence.java:174)\n\tat io.deephaven.temp.c_e8f972fea24b61ddb3040ab5d9d410aa77dcfcab3f03acd580841d541a46769bv55_0.Formula.fillChunkHelper(Formula.java:140)\n\tat io.deephaven.temp.c_e8f972fea24b61ddb3040ab5d9d410aa77dcfcab3f03acd580841d541a46769bv55_0.Formula.fillChunk(Formula.java:117)\n\tat io.deephaven.engine.table.impl.sources.ViewColumnSource.fillChunk(ViewColumnSource.java:219)\n\tat io.deephaven.engine.table.impl.select.analyzers.SelectColumnLayer.doApplyUpdate(SelectColumnLayer.java:412)\n\tat io.deephaven.engine.table.impl.select.analyzers.SelectColumnLayer.lambda$doSerialApplyUpdate$2(SelectColumnLayer.java:264)\n\tat io.deephaven.engine.util.systemicmarking.SystemicObjectTracker.executeSystemically(SystemicObjectTracker.java:56)\n\tat io.deephaven.engine.table.impl.select.analyzers.SelectColumnLayer.doSerialApplyUpdate(SelectColumnLayer.java:263)\n\tat io.deephaven.engine.table.impl.select.analyzers.SelectColumnLayer$1.lambda$onAllRequiredColumnsCompleted$1(SelectColumnLayer.java:212)\n\tat io.deephaven.engine.table.impl.util.ImmediateJobScheduler.submit(ImmediateJobScheduler.java:23)\n\tat io.deephaven.engine.table.impl.select.analyzers.SelectColumnLayer$1.onAllRequiredColumnsCompleted(SelectColumnLayer.java:210)\n\tat io.deephaven.engine.table.impl.select.analyzers.SelectAndViewAnalyzer$SelectLayerCompletionHandler.onLayerCompleted(SelectAndViewAnalyzer.java:589)\n\tat io.deephaven.engine.table.impl.select.analyzers.SelectColumnLayer.doSerialApplyUpdate(SelectColumnLayer.java:271)\n\tat io.deephaven.engine.table.impl.select.analyzers.SelectColumnLayer$1.lambda$onAllRequiredColumnsCompleted$1(SelectColumnLayer.java:212)\n\tat io.deephaven.engine.table.impl.util.ImmediateJobScheduler.submit(ImmediateJobScheduler.java:23)\n\tat io.deephaven.engine.table.impl.select.analyzers.SelectColumnLayer$1.onAllRequiredColumnsCompleted(SelectColumnLayer.java:210)\n\tat io.deephaven.engine.table.impl.select.analyzers.SelectAndViewAnalyzer$SelectLayerCompletionHandler.onLayerCompleted(SelectAndViewAnalyzer.java:589)\n\tat io.deephaven.engine.table.impl.select.analyzers.BaseLayer.applyUpdate(BaseLayer.java:76)\n\tat io.deephaven.engine.table.impl.select.analyzers.SelectColumnLayer.applyUpdate(SelectColumnLayer.java:151)\n\tat io.deephaven.engine.table.impl.select.analyzers.SelectColumnLayer.applyUpdate(SelectColumnLayer.java:151)\n\tat io.deephaven.engine.table.impl.select.analyzers.SelectColumnLayer.applyUpdate(SelectColumnLayer.java:151)\n\tat io.deephaven.engine.table.impl.QueryTable.lambda$selectOrUpdate$32(QueryTable.java:1497)\n\tat io.deephaven.engine.table.impl.perf.QueryPerformanceRecorder.withNugget(QueryPerformanceRecorder.java:519)\n\tat io.deephaven.engine.table.impl.QueryTable.lambda$selectOrUpdate$33(QueryTable.java:1447)\n\tat io.deephaven.engine.table.impl.QueryTable.memoizeResult(QueryTable.java:3453)\n\tat io.deephaven.engine.table.impl.QueryTable.selectOrUpdate(QueryTable.java:1446)\n\tat io.deephaven.engine.table.impl.QueryTable.update(QueryTable.java:1424)\n\tat io.deephaven.engine.table.impl.QueryTable.update(QueryTable.java:110)\n\tat io.deephaven.api.TableOperationsDefaults.update(TableOperationsDefaults.java:94)\ncaused by java.lang.RuntimeException: Error in Python interpreter:\nType: <class 'NameError'>\nValue: name 'columns' is not defined\nLine: 5\nNamespace: table_to_numpy_int\nFile: /tmp/ipykernel_18065/2210814329.py\nTraceback (most recent call last):\n  File \"/tmp/ipykernel_18065/2210814329.py\", line 5, in table_to_numpy_int\n\n\tat org.jpy.PyLib.callAndReturnObject(Native Method)\n\tat org.jpy.PyObject.call(PyObject.java:449)\n\tat io.deephaven.integrations.python.PythonFunctionCaller.apply(PythonFunctionCaller.java:32)\n\tat io.deephaven.integrations.python.PythonFunctionCaller.apply(PythonFunctionCaller.java:15)\n\tat io.deephaven.integrations.learn.Future.gather(Future.java:81)\n\tat io.deephaven.integrations.learn.Future.get(Future.java:59)\n\tat io.deephaven.temp.c_e8f972fea24b61ddb3040ab5d9d410aa77dcfcab3f03acd580841d541a46769bv55_0.Formula.applyFormulaPerItem(Formula.java:151)\n\t... 32 more\n\n\nThe above exception was the direct cause of the following exception:\n\nTraceback (most recent call last):\n  File \"/home/jasleen/Desktop/Thapar/Conversational-Systems/venv/lib/python3.11/site-packages/deephaven/learn/__init__.py\", line 157, in learn\n    .update(formulas=[\n     ^^^^^^^^^^^^^^^^^\n  File \"/home/jasleen/Desktop/Thapar/Conversational-Systems/venv/lib/python3.11/site-packages/deephaven/table.py\", line 837, in update\n    raise DHError(e, \"table update operation failed.\") from e\ndeephaven.dherror.DHError: table update operation failed. : java.lang.RuntimeException: Error in Python interpreter:\nTraceback (most recent call last):\n  File \"/home/jasleen/Desktop/Thapar/Conversational-Systems/venv/lib/python3.11/site-packages/deephaven/table.py\", line 835, in update\n    return Table(j_table=self.j_table.update(*formulas))\n                         ^^^^^^^^^^^^^^^^^^^^^^^^^^^^^^\nRuntimeError: io.deephaven.engine.table.impl.select.FormulaEvaluationException: In formula: __Result = __FutureOffset.getFuture().get()\n\tat io.deephaven.temp.c_e8f972fea24b61ddb3040ab5d9d410aa77dcfcab3f03acd580841d541a46769bv55_0.Formula.applyFormulaPerItem(Formula.java:153)\n\tat io.deephaven.temp.c_e8f972fea24b61ddb3040ab5d9d410aa77dcfcab3f03acd580841d541a46769bv55_0.Formula.lambda$fillChunkHelper$4(Formula.java:142)\n\tat io.deephaven.engine.rowset.RowSequence.lambda$forAllRowKeys$0(RowSequence.java:175)\n\tat io.deephaven.engine.rowset.impl.singlerange.SingleRangeMixin.forEachRowKey(SingleRangeMixin.java:17)\n\tat io.deephaven.engine.rowset.RowSequence.forAllRowKeys(RowSequence.java:174)\n\tat io.deephaven.temp.c_e8f972fea24b61ddb3040ab5d9d410aa77dcfcab3f03acd580841d541a46769bv55_0.Formula.fillChunkHelper(Formula.java:140)\n\tat io.deephaven.temp.c_e8f972fea24b61ddb3040ab5d9d410aa77dcfcab3f03acd580841d541a46769bv55_0.Formula.fillChunk(Formula.java:117)\n\tat io.deephaven.engine.table.impl.sources.ViewColumnSource.fillChunk(ViewColumnSource.java:219)\n\tat io.deephaven.engine.table.impl.select.analyzers.SelectColumnLayer.doApplyUpdate(SelectColumnLayer.java:412)\n\tat io.deephaven.engine.table.impl.select.analyzers.SelectColumnLayer.lambda$doSerialApplyUpdate$2(SelectColumnLayer.java:264)\n\tat io.deephaven.engine.util.systemicmarking.SystemicObjectTracker.executeSystemically(SystemicObjectTracker.java:56)\n\tat io.deephaven.engine.table.impl.select.analyzers.SelectColumnLayer.doSerialApplyUpdate(SelectColumnLayer.java:263)\n\tat io.deephaven.engine.table.impl.select.analyzers.SelectColumnLayer$1.lambda$onAllRequiredColumnsCompleted$1(SelectColumnLayer.java:212)\n\tat io.deephaven.engine.table.impl.util.ImmediateJobScheduler.submit(ImmediateJobScheduler.java:23)\n\tat io.deephaven.engine.table.impl.select.analyzers.SelectColumnLayer$1.onAllRequiredColumnsCompleted(SelectColumnLayer.java:210)\n\tat io.deephaven.engine.table.impl.select.analyzers.SelectAndViewAnalyzer$SelectLayerCompletionHandler.onLayerCompleted(SelectAndViewAnalyzer.java:589)\n\tat io.deephaven.engine.table.impl.select.analyzers.SelectColumnLayer.doSerialApplyUpdate(SelectColumnLayer.java:271)\n\tat io.deephaven.engine.table.impl.select.analyzers.SelectColumnLayer$1.lambda$onAllRequiredColumnsCompleted$1(SelectColumnLayer.java:212)\n\tat io.deephaven.engine.table.impl.util.ImmediateJobScheduler.submit(ImmediateJobScheduler.java:23)\n\tat io.deephaven.engine.table.impl.select.analyzers.SelectColumnLayer$1.onAllRequiredColumnsCompleted(SelectColumnLayer.java:210)\n\tat io.deephaven.engine.table.impl.select.analyzers.SelectAndViewAnalyzer$SelectLayerCompletionHandler.onLayerCompleted(SelectAndViewAnalyzer.java:589)\n\tat io.deephaven.engine.table.impl.select.analyzers.BaseLayer.applyUpdate(BaseLayer.java:76)\n\tat io.deephaven.engine.table.impl.select.analyzers.SelectColumnLayer.applyUpdate(SelectColumnLayer.java:151)\n\tat io.deephaven.engine.table.impl.select.analyzers.SelectColumnLayer.applyUpdate(SelectColumnLayer.java:151)\n\tat io.deephaven.engine.table.impl.select.analyzers.SelectColumnLayer.applyUpdate(SelectColumnLayer.java:151)\n\tat io.deephaven.engine.table.impl.QueryTable.lambda$selectOrUpdate$32(QueryTable.java:1497)\n\tat io.deephaven.engine.table.impl.perf.QueryPerformanceRecorder.withNugget(QueryPerformanceRecorder.java:519)\n\tat io.deephaven.engine.table.impl.QueryTable.lambda$selectOrUpdate$33(QueryTable.java:1447)\n\tat io.deephaven.engine.table.impl.QueryTable.memoizeResult(QueryTable.java:3453)\n\tat io.deephaven.engine.table.impl.QueryTable.selectOrUpdate(QueryTable.java:1446)\n\tat io.deephaven.engine.table.impl.QueryTable.update(QueryTable.java:1424)\n\tat io.deephaven.engine.table.impl.QueryTable.update(QueryTable.java:110)\n\tat io.deephaven.api.TableOperationsDefaults.update(TableOperationsDefaults.java:94)\ncaused by java.lang.RuntimeException: Error in Python interpreter:\nType: <class 'NameError'>\nValue: name 'columns' is not defined\nLine: 5\nNamespace: table_to_numpy_int\nFile: /tmp/ipykernel_18065/2210814329.py\nTraceback (most recent call last):\n  File \"/tmp/ipykernel_18065/2210814329.py\", line 5, in table_to_numpy_int\n\n\tat org.jpy.PyLib.callAndReturnObject(Native Method)\n\tat org.jpy.PyObject.call(PyObject.java:449)\n\tat io.deephaven.integrations.python.PythonFunctionCaller.apply(PythonFunctionCaller.java:32)\n\tat io.deephaven.integrations.python.PythonFunctionCaller.apply(PythonFunctionCaller.java:15)\n\tat io.deephaven.integrations.learn.Future.gather(Future.java:81)\n\tat io.deephaven.integrations.learn.Future.get(Future.java:59)\n\tat io.deephaven.temp.c_e8f972fea24b61ddb3040ab5d9d410aa77dcfcab3f03acd580841d541a46769bv55_0.Formula.applyFormulaPerItem(Formula.java:151)\n\t... 32 more\n\n\n",
     "output_type": "error",
     "traceback": [
      "\u001b[0;31m---------------------------------------------------------------------------\u001b[0m",
      "\u001b[0;31mRuntimeError\u001b[0m                              Traceback (most recent call last)",
      "File \u001b[0;32m~/Desktop/Thapar/Conversational-Systems/venv/lib/python3.11/site-packages/deephaven/table.py:835\u001b[0m, in \u001b[0;36mTable.update\u001b[0;34m(self, formulas)\u001b[0m\n\u001b[1;32m    834\u001b[0m     \u001b[39mwith\u001b[39;00m _query_scope_ctx(), auto_locking_ctx(\u001b[39mself\u001b[39m):\n\u001b[0;32m--> 835\u001b[0m         \u001b[39mreturn\u001b[39;00m Table(j_table\u001b[39m=\u001b[39m\u001b[39mself\u001b[39;49m\u001b[39m.\u001b[39;49mj_table\u001b[39m.\u001b[39;49mupdate(\u001b[39m*\u001b[39;49mformulas))\n\u001b[1;32m    836\u001b[0m \u001b[39mexcept\u001b[39;00m \u001b[39mException\u001b[39;00m \u001b[39mas\u001b[39;00m e:\n",
      "\u001b[0;31mRuntimeError\u001b[0m: io.deephaven.engine.table.impl.select.FormulaEvaluationException: In formula: __Result = __FutureOffset.getFuture().get()\n\tat io.deephaven.temp.c_e8f972fea24b61ddb3040ab5d9d410aa77dcfcab3f03acd580841d541a46769bv55_0.Formula.applyFormulaPerItem(Formula.java:153)\n\tat io.deephaven.temp.c_e8f972fea24b61ddb3040ab5d9d410aa77dcfcab3f03acd580841d541a46769bv55_0.Formula.lambda$fillChunkHelper$4(Formula.java:142)\n\tat io.deephaven.engine.rowset.RowSequence.lambda$forAllRowKeys$0(RowSequence.java:175)\n\tat io.deephaven.engine.rowset.impl.singlerange.SingleRangeMixin.forEachRowKey(SingleRangeMixin.java:17)\n\tat io.deephaven.engine.rowset.RowSequence.forAllRowKeys(RowSequence.java:174)\n\tat io.deephaven.temp.c_e8f972fea24b61ddb3040ab5d9d410aa77dcfcab3f03acd580841d541a46769bv55_0.Formula.fillChunkHelper(Formula.java:140)\n\tat io.deephaven.temp.c_e8f972fea24b61ddb3040ab5d9d410aa77dcfcab3f03acd580841d541a46769bv55_0.Formula.fillChunk(Formula.java:117)\n\tat io.deephaven.engine.table.impl.sources.ViewColumnSource.fillChunk(ViewColumnSource.java:219)\n\tat io.deephaven.engine.table.impl.select.analyzers.SelectColumnLayer.doApplyUpdate(SelectColumnLayer.java:412)\n\tat io.deephaven.engine.table.impl.select.analyzers.SelectColumnLayer.lambda$doSerialApplyUpdate$2(SelectColumnLayer.java:264)\n\tat io.deephaven.engine.util.systemicmarking.SystemicObjectTracker.executeSystemically(SystemicObjectTracker.java:56)\n\tat io.deephaven.engine.table.impl.select.analyzers.SelectColumnLayer.doSerialApplyUpdate(SelectColumnLayer.java:263)\n\tat io.deephaven.engine.table.impl.select.analyzers.SelectColumnLayer$1.lambda$onAllRequiredColumnsCompleted$1(SelectColumnLayer.java:212)\n\tat io.deephaven.engine.table.impl.util.ImmediateJobScheduler.submit(ImmediateJobScheduler.java:23)\n\tat io.deephaven.engine.table.impl.select.analyzers.SelectColumnLayer$1.onAllRequiredColumnsCompleted(SelectColumnLayer.java:210)\n\tat io.deephaven.engine.table.impl.select.analyzers.SelectAndViewAnalyzer$SelectLayerCompletionHandler.onLayerCompleted(SelectAndViewAnalyzer.java:589)\n\tat io.deephaven.engine.table.impl.select.analyzers.SelectColumnLayer.doSerialApplyUpdate(SelectColumnLayer.java:271)\n\tat io.deephaven.engine.table.impl.select.analyzers.SelectColumnLayer$1.lambda$onAllRequiredColumnsCompleted$1(SelectColumnLayer.java:212)\n\tat io.deephaven.engine.table.impl.util.ImmediateJobScheduler.submit(ImmediateJobScheduler.java:23)\n\tat io.deephaven.engine.table.impl.select.analyzers.SelectColumnLayer$1.onAllRequiredColumnsCompleted(SelectColumnLayer.java:210)\n\tat io.deephaven.engine.table.impl.select.analyzers.SelectAndViewAnalyzer$SelectLayerCompletionHandler.onLayerCompleted(SelectAndViewAnalyzer.java:589)\n\tat io.deephaven.engine.table.impl.select.analyzers.BaseLayer.applyUpdate(BaseLayer.java:76)\n\tat io.deephaven.engine.table.impl.select.analyzers.SelectColumnLayer.applyUpdate(SelectColumnLayer.java:151)\n\tat io.deephaven.engine.table.impl.select.analyzers.SelectColumnLayer.applyUpdate(SelectColumnLayer.java:151)\n\tat io.deephaven.engine.table.impl.select.analyzers.SelectColumnLayer.applyUpdate(SelectColumnLayer.java:151)\n\tat io.deephaven.engine.table.impl.QueryTable.lambda$selectOrUpdate$32(QueryTable.java:1497)\n\tat io.deephaven.engine.table.impl.perf.QueryPerformanceRecorder.withNugget(QueryPerformanceRecorder.java:519)\n\tat io.deephaven.engine.table.impl.QueryTable.lambda$selectOrUpdate$33(QueryTable.java:1447)\n\tat io.deephaven.engine.table.impl.QueryTable.memoizeResult(QueryTable.java:3453)\n\tat io.deephaven.engine.table.impl.QueryTable.selectOrUpdate(QueryTable.java:1446)\n\tat io.deephaven.engine.table.impl.QueryTable.update(QueryTable.java:1424)\n\tat io.deephaven.engine.table.impl.QueryTable.update(QueryTable.java:110)\n\tat io.deephaven.api.TableOperationsDefaults.update(TableOperationsDefaults.java:94)\ncaused by java.lang.RuntimeException: Error in Python interpreter:\nType: <class 'NameError'>\nValue: name 'columns' is not defined\nLine: 5\nNamespace: table_to_numpy_int\nFile: /tmp/ipykernel_18065/2210814329.py\nTraceback (most recent call last):\n  File \"/tmp/ipykernel_18065/2210814329.py\", line 5, in table_to_numpy_int\n\n\tat org.jpy.PyLib.callAndReturnObject(Native Method)\n\tat org.jpy.PyObject.call(PyObject.java:449)\n\tat io.deephaven.integrations.python.PythonFunctionCaller.apply(PythonFunctionCaller.java:32)\n\tat io.deephaven.integrations.python.PythonFunctionCaller.apply(PythonFunctionCaller.java:15)\n\tat io.deephaven.integrations.learn.Future.gather(Future.java:81)\n\tat io.deephaven.integrations.learn.Future.get(Future.java:59)\n\tat io.deephaven.temp.c_e8f972fea24b61ddb3040ab5d9d410aa77dcfcab3f03acd580841d541a46769bv55_0.Formula.applyFormulaPerItem(Formula.java:151)\n\t... 32 more\n",
      "\nThe above exception was the direct cause of the following exception:\n",
      "\u001b[0;31mDHError\u001b[0m                                   Traceback (most recent call last)",
      "File \u001b[0;32m~/Desktop/Thapar/Conversational-Systems/venv/lib/python3.11/site-packages/deephaven/learn/__init__.py:157\u001b[0m, in \u001b[0;36mlearn\u001b[0;34m(table, model_func, inputs, outputs, batch_size)\u001b[0m\n\u001b[1;32m    154\u001b[0m     result \u001b[39m=\u001b[39m _create_non_conflicting_col_name(table, \u001b[39m\"\u001b[39m\u001b[39m__Result\u001b[39m\u001b[39m\"\u001b[39m)\n\u001b[1;32m    156\u001b[0m     \u001b[39mreturn\u001b[39;00m (table\n\u001b[0;32m--> 157\u001b[0m             \u001b[39m.\u001b[39;49mupdate(formulas\u001b[39m=\u001b[39;49m[\n\u001b[1;32m    158\u001b[0m                 \u001b[39mf\u001b[39;49m\u001b[39m\"\u001b[39;49m\u001b[39m{\u001b[39;49;00mfuture_offset\u001b[39m}\u001b[39;49;00m\u001b[39m = __computer.compute(k)\u001b[39;49m\u001b[39m\"\u001b[39;49m,\n\u001b[1;32m    159\u001b[0m                 \u001b[39mf\u001b[39;49m\u001b[39m\"\u001b[39;49m\u001b[39m{\u001b[39;49;00mresult\u001b[39m}\u001b[39;49;00m\u001b[39m = \u001b[39;49m\u001b[39m{\u001b[39;49;00mfuture_offset\u001b[39m}\u001b[39;49;00m\u001b[39m.getFuture().get()\u001b[39;49m\u001b[39m\"\u001b[39;49m,\n\u001b[1;32m    160\u001b[0m                 \u001b[39mf\u001b[39;49m\u001b[39m\"\u001b[39;49m\u001b[39m{\u001b[39;49;00mclean\u001b[39m}\u001b[39;49;00m\u001b[39m = __computer.clear()\u001b[39;49m\u001b[39m\"\u001b[39;49m,\n\u001b[1;32m    161\u001b[0m             ])\n\u001b[1;32m    162\u001b[0m             \u001b[39m.\u001b[39mdrop_columns(cols\u001b[39m=\u001b[39m[\n\u001b[1;32m    163\u001b[0m                 \u001b[39mf\u001b[39m\u001b[39m\"\u001b[39m\u001b[39m{\u001b[39;00mfuture_offset\u001b[39m}\u001b[39;00m\u001b[39m\"\u001b[39m,\n\u001b[1;32m    164\u001b[0m                 \u001b[39mf\u001b[39m\u001b[39m\"\u001b[39m\u001b[39m{\u001b[39;00mclean\u001b[39m}\u001b[39;00m\u001b[39m\"\u001b[39m,\n\u001b[1;32m    165\u001b[0m                 \u001b[39mf\u001b[39m\u001b[39m\"\u001b[39m\u001b[39m{\u001b[39;00mresult\u001b[39m}\u001b[39;00m\u001b[39m\"\u001b[39m,\n\u001b[1;32m    166\u001b[0m             ]))\n\u001b[1;32m    167\u001b[0m \u001b[39mexcept\u001b[39;00m \u001b[39mException\u001b[39;00m \u001b[39mas\u001b[39;00m e:\n",
      "File \u001b[0;32m~/Desktop/Thapar/Conversational-Systems/venv/lib/python3.11/site-packages/deephaven/table.py:837\u001b[0m, in \u001b[0;36mTable.update\u001b[0;34m(self, formulas)\u001b[0m\n\u001b[1;32m    836\u001b[0m \u001b[39mexcept\u001b[39;00m \u001b[39mException\u001b[39;00m \u001b[39mas\u001b[39;00m e:\n\u001b[0;32m--> 837\u001b[0m     \u001b[39mraise\u001b[39;00m DHError(e, \u001b[39m\"\u001b[39m\u001b[39mtable update operation failed.\u001b[39m\u001b[39m\"\u001b[39m) \u001b[39mfrom\u001b[39;00m \u001b[39me\u001b[39;00m\n",
      "\u001b[0;31mDHError\u001b[0m: table update operation failed. : java.lang.RuntimeException: Error in Python interpreter:\nTraceback (most recent call last):\n  File \"/home/jasleen/Desktop/Thapar/Conversational-Systems/venv/lib/python3.11/site-packages/deephaven/table.py\", line 835, in update\n    return Table(j_table=self.j_table.update(*formulas))\n                         ^^^^^^^^^^^^^^^^^^^^^^^^^^^^^^\nRuntimeError: io.deephaven.engine.table.impl.select.FormulaEvaluationException: In formula: __Result = __FutureOffset.getFuture().get()\n\tat io.deephaven.temp.c_e8f972fea24b61ddb3040ab5d9d410aa77dcfcab3f03acd580841d541a46769bv55_0.Formula.applyFormulaPerItem(Formula.java:153)\n\tat io.deephaven.temp.c_e8f972fea24b61ddb3040ab5d9d410aa77dcfcab3f03acd580841d541a46769bv55_0.Formula.lambda$fillChunkHelper$4(Formula.java:142)\n\tat io.deephaven.engine.rowset.RowSequence.lambda$forAllRowKeys$0(RowSequence.java:175)\n\tat io.deephaven.engine.rowset.impl.singlerange.SingleRangeMixin.forEachRowKey(SingleRangeMixin.java:17)\n\tat io.deephaven.engine.rowset.RowSequence.forAllRowKeys(RowSequence.java:174)\n\tat io.deephaven.temp.c_e8f972fea24b61ddb3040ab5d9d410aa77dcfcab3f03acd580841d541a46769bv55_0.Formula.fillChunkHelper(Formula.java:140)\n\tat io.deephaven.temp.c_e8f972fea24b61ddb3040ab5d9d410aa77dcfcab3f03acd580841d541a46769bv55_0.Formula.fillChunk(Formula.java:117)\n\tat io.deephaven.engine.table.impl.sources.ViewColumnSource.fillChunk(ViewColumnSource.java:219)\n\tat io.deephaven.engine.table.impl.select.analyzers.SelectColumnLayer.doApplyUpdate(SelectColumnLayer.java:412)\n\tat io.deephaven.engine.table.impl.select.analyzers.SelectColumnLayer.lambda$doSerialApplyUpdate$2(SelectColumnLayer.java:264)\n\tat io.deephaven.engine.util.systemicmarking.SystemicObjectTracker.executeSystemically(SystemicObjectTracker.java:56)\n\tat io.deephaven.engine.table.impl.select.analyzers.SelectColumnLayer.doSerialApplyUpdate(SelectColumnLayer.java:263)\n\tat io.deephaven.engine.table.impl.select.analyzers.SelectColumnLayer$1.lambda$onAllRequiredColumnsCompleted$1(SelectColumnLayer.java:212)\n\tat io.deephaven.engine.table.impl.util.ImmediateJobScheduler.submit(ImmediateJobScheduler.java:23)\n\tat io.deephaven.engine.table.impl.select.analyzers.SelectColumnLayer$1.onAllRequiredColumnsCompleted(SelectColumnLayer.java:210)\n\tat io.deephaven.engine.table.impl.select.analyzers.SelectAndViewAnalyzer$SelectLayerCompletionHandler.onLayerCompleted(SelectAndViewAnalyzer.java:589)\n\tat io.deephaven.engine.table.impl.select.analyzers.SelectColumnLayer.doSerialApplyUpdate(SelectColumnLayer.java:271)\n\tat io.deephaven.engine.table.impl.select.analyzers.SelectColumnLayer$1.lambda$onAllRequiredColumnsCompleted$1(SelectColumnLayer.java:212)\n\tat io.deephaven.engine.table.impl.util.ImmediateJobScheduler.submit(ImmediateJobScheduler.java:23)\n\tat io.deephaven.engine.table.impl.select.analyzers.SelectColumnLayer$1.onAllRequiredColumnsCompleted(SelectColumnLayer.java:210)\n\tat io.deephaven.engine.table.impl.select.analyzers.SelectAndViewAnalyzer$SelectLayerCompletionHandler.onLayerCompleted(SelectAndViewAnalyzer.java:589)\n\tat io.deephaven.engine.table.impl.select.analyzers.BaseLayer.applyUpdate(BaseLayer.java:76)\n\tat io.deephaven.engine.table.impl.select.analyzers.SelectColumnLayer.applyUpdate(SelectColumnLayer.java:151)\n\tat io.deephaven.engine.table.impl.select.analyzers.SelectColumnLayer.applyUpdate(SelectColumnLayer.java:151)\n\tat io.deephaven.engine.table.impl.select.analyzers.SelectColumnLayer.applyUpdate(SelectColumnLayer.java:151)\n\tat io.deephaven.engine.table.impl.QueryTable.lambda$selectOrUpdate$32(QueryTable.java:1497)\n\tat io.deephaven.engine.table.impl.perf.QueryPerformanceRecorder.withNugget(QueryPerformanceRecorder.java:519)\n\tat io.deephaven.engine.table.impl.QueryTable.lambda$selectOrUpdate$33(QueryTable.java:1447)\n\tat io.deephaven.engine.table.impl.QueryTable.memoizeResult(QueryTable.java:3453)\n\tat io.deephaven.engine.table.impl.QueryTable.selectOrUpdate(QueryTable.java:1446)\n\tat io.deephaven.engine.table.impl.QueryTable.update(QueryTable.java:1424)\n\tat io.deephaven.engine.table.impl.QueryTable.update(QueryTable.java:110)\n\tat io.deephaven.api.TableOperationsDefaults.update(TableOperationsDefaults.java:94)\ncaused by java.lang.RuntimeException: Error in Python interpreter:\nType: <class 'NameError'>\nValue: name 'columns' is not defined\nLine: 5\nNamespace: table_to_numpy_int\nFile: /tmp/ipykernel_18065/2210814329.py\nTraceback (most recent call last):\n  File \"/tmp/ipykernel_18065/2210814329.py\", line 5, in table_to_numpy_int\n\n\tat org.jpy.PyLib.callAndReturnObject(Native Method)\n\tat org.jpy.PyObject.call(PyObject.java:449)\n\tat io.deephaven.integrations.python.PythonFunctionCaller.apply(PythonFunctionCaller.java:32)\n\tat io.deephaven.integrations.python.PythonFunctionCaller.apply(PythonFunctionCaller.java:15)\n\tat io.deephaven.integrations.learn.Future.gather(Future.java:81)\n\tat io.deephaven.integrations.learn.Future.get(Future.java:59)\n\tat io.deephaven.temp.c_e8f972fea24b61ddb3040ab5d9d410aa77dcfcab3f03acd580841d541a46769bv55_0.Formula.applyFormulaPerItem(Formula.java:151)\n\t... 32 more\n\n",
      "\nThe above exception was the direct cause of the following exception:\n",
      "\u001b[0;31mDHError\u001b[0m                                   Traceback (most recent call last)",
      "\u001b[1;32m/home/jasleen/Desktop/Thapar/Conversational-Systems/Sentiment_Analysis.ipynb Cell 7\u001b[0m line \u001b[0;36m7\n\u001b[1;32m      <a href='vscode-notebook-cell:/home/jasleen/Desktop/Thapar/Conversational-Systems/Sentiment_Analysis.ipynb#X14sZmlsZQ%3D%3D?line=3'>4</a>\u001b[0m     y_train \u001b[39m=\u001b[39m data[:, \u001b[39m-\u001b[39m\u001b[39m2\u001b[39m:]\n\u001b[1;32m      <a href='vscode-notebook-cell:/home/jasleen/Desktop/Thapar/Conversational-Systems/Sentiment_Analysis.ipynb#X14sZmlsZQ%3D%3D?line=4'>5</a>\u001b[0m     sa_model\u001b[39m.\u001b[39mfit(x_train, y_train, epochs \u001b[39m=\u001b[39m \u001b[39m7\u001b[39m, batch_size \u001b[39m=\u001b[39m \u001b[39m32\u001b[39m, verbose \u001b[39m=\u001b[39m \u001b[39m2\u001b[39m)\n\u001b[0;32m----> <a href='vscode-notebook-cell:/home/jasleen/Desktop/Thapar/Conversational-Systems/Sentiment_Analysis.ipynb#X14sZmlsZQ%3D%3D?line=6'>7</a>\u001b[0m learn\u001b[39m.\u001b[39;49mlearn(\n\u001b[1;32m      <a href='vscode-notebook-cell:/home/jasleen/Desktop/Thapar/Conversational-Systems/Sentiment_Analysis.ipynb#X14sZmlsZQ%3D%3D?line=7'>8</a>\u001b[0m     table \u001b[39m=\u001b[39;49m train_table,\n\u001b[1;32m      <a href='vscode-notebook-cell:/home/jasleen/Desktop/Thapar/Conversational-Systems/Sentiment_Analysis.ipynb#X14sZmlsZQ%3D%3D?line=8'>9</a>\u001b[0m     model_func \u001b[39m=\u001b[39;49m train_model,\n\u001b[1;32m     <a href='vscode-notebook-cell:/home/jasleen/Desktop/Thapar/Conversational-Systems/Sentiment_Analysis.ipynb#X14sZmlsZQ%3D%3D?line=9'>10</a>\u001b[0m     inputs \u001b[39m=\u001b[39;49m [learn\u001b[39m.\u001b[39;49mInput(column_names, table_to_numpy_int)],\n\u001b[1;32m     <a href='vscode-notebook-cell:/home/jasleen/Desktop/Thapar/Conversational-Systems/Sentiment_Analysis.ipynb#X14sZmlsZQ%3D%3D?line=10'>11</a>\u001b[0m     outputs \u001b[39m=\u001b[39;49m \u001b[39mNone\u001b[39;49;00m,\n\u001b[1;32m     <a href='vscode-notebook-cell:/home/jasleen/Desktop/Thapar/Conversational-Systems/Sentiment_Analysis.ipynb#X14sZmlsZQ%3D%3D?line=11'>12</a>\u001b[0m     batch_size \u001b[39m=\u001b[39;49m train_table\u001b[39m.\u001b[39;49msize\n\u001b[1;32m     <a href='vscode-notebook-cell:/home/jasleen/Desktop/Thapar/Conversational-Systems/Sentiment_Analysis.ipynb#X14sZmlsZQ%3D%3D?line=12'>13</a>\u001b[0m )\n",
      "File \u001b[0;32m~/Desktop/Thapar/Conversational-Systems/venv/lib/python3.11/site-packages/deephaven/learn/__init__.py:168\u001b[0m, in \u001b[0;36mlearn\u001b[0;34m(table, model_func, inputs, outputs, batch_size)\u001b[0m\n\u001b[1;32m    156\u001b[0m     \u001b[39mreturn\u001b[39;00m (table\n\u001b[1;32m    157\u001b[0m             \u001b[39m.\u001b[39mupdate(formulas\u001b[39m=\u001b[39m[\n\u001b[1;32m    158\u001b[0m                 \u001b[39mf\u001b[39m\u001b[39m\"\u001b[39m\u001b[39m{\u001b[39;00mfuture_offset\u001b[39m}\u001b[39;00m\u001b[39m = __computer.compute(k)\u001b[39m\u001b[39m\"\u001b[39m,\n\u001b[0;32m   (...)\u001b[0m\n\u001b[1;32m    165\u001b[0m                 \u001b[39mf\u001b[39m\u001b[39m\"\u001b[39m\u001b[39m{\u001b[39;00mresult\u001b[39m}\u001b[39;00m\u001b[39m\"\u001b[39m,\n\u001b[1;32m    166\u001b[0m             ]))\n\u001b[1;32m    167\u001b[0m \u001b[39mexcept\u001b[39;00m \u001b[39mException\u001b[39;00m \u001b[39mas\u001b[39;00m e:\n\u001b[0;32m--> 168\u001b[0m     \u001b[39mraise\u001b[39;00m DHError(e, \u001b[39m\"\u001b[39m\u001b[39mfailed to complete the learn function.\u001b[39m\u001b[39m\"\u001b[39m) \u001b[39mfrom\u001b[39;00m \u001b[39me\u001b[39;00m\n",
      "\u001b[0;31mDHError\u001b[0m: failed to complete the learn function. : java.lang.RuntimeException: Error in Python interpreter:\nTraceback (most recent call last):\n  File \"/home/jasleen/Desktop/Thapar/Conversational-Systems/venv/lib/python3.11/site-packages/deephaven/table.py\", line 835, in update\n    return Table(j_table=self.j_table.update(*formulas))\n                         ^^^^^^^^^^^^^^^^^^^^^^^^^^^^^^\nRuntimeError: io.deephaven.engine.table.impl.select.FormulaEvaluationException: In formula: __Result = __FutureOffset.getFuture().get()\n\tat io.deephaven.temp.c_e8f972fea24b61ddb3040ab5d9d410aa77dcfcab3f03acd580841d541a46769bv55_0.Formula.applyFormulaPerItem(Formula.java:153)\n\tat io.deephaven.temp.c_e8f972fea24b61ddb3040ab5d9d410aa77dcfcab3f03acd580841d541a46769bv55_0.Formula.lambda$fillChunkHelper$4(Formula.java:142)\n\tat io.deephaven.engine.rowset.RowSequence.lambda$forAllRowKeys$0(RowSequence.java:175)\n\tat io.deephaven.engine.rowset.impl.singlerange.SingleRangeMixin.forEachRowKey(SingleRangeMixin.java:17)\n\tat io.deephaven.engine.rowset.RowSequence.forAllRowKeys(RowSequence.java:174)\n\tat io.deephaven.temp.c_e8f972fea24b61ddb3040ab5d9d410aa77dcfcab3f03acd580841d541a46769bv55_0.Formula.fillChunkHelper(Formula.java:140)\n\tat io.deephaven.temp.c_e8f972fea24b61ddb3040ab5d9d410aa77dcfcab3f03acd580841d541a46769bv55_0.Formula.fillChunk(Formula.java:117)\n\tat io.deephaven.engine.table.impl.sources.ViewColumnSource.fillChunk(ViewColumnSource.java:219)\n\tat io.deephaven.engine.table.impl.select.analyzers.SelectColumnLayer.doApplyUpdate(SelectColumnLayer.java:412)\n\tat io.deephaven.engine.table.impl.select.analyzers.SelectColumnLayer.lambda$doSerialApplyUpdate$2(SelectColumnLayer.java:264)\n\tat io.deephaven.engine.util.systemicmarking.SystemicObjectTracker.executeSystemically(SystemicObjectTracker.java:56)\n\tat io.deephaven.engine.table.impl.select.analyzers.SelectColumnLayer.doSerialApplyUpdate(SelectColumnLayer.java:263)\n\tat io.deephaven.engine.table.impl.select.analyzers.SelectColumnLayer$1.lambda$onAllRequiredColumnsCompleted$1(SelectColumnLayer.java:212)\n\tat io.deephaven.engine.table.impl.util.ImmediateJobScheduler.submit(ImmediateJobScheduler.java:23)\n\tat io.deephaven.engine.table.impl.select.analyzers.SelectColumnLayer$1.onAllRequiredColumnsCompleted(SelectColumnLayer.java:210)\n\tat io.deephaven.engine.table.impl.select.analyzers.SelectAndViewAnalyzer$SelectLayerCompletionHandler.onLayerCompleted(SelectAndViewAnalyzer.java:589)\n\tat io.deephaven.engine.table.impl.select.analyzers.SelectColumnLayer.doSerialApplyUpdate(SelectColumnLayer.java:271)\n\tat io.deephaven.engine.table.impl.select.analyzers.SelectColumnLayer$1.lambda$onAllRequiredColumnsCompleted$1(SelectColumnLayer.java:212)\n\tat io.deephaven.engine.table.impl.util.ImmediateJobScheduler.submit(ImmediateJobScheduler.java:23)\n\tat io.deephaven.engine.table.impl.select.analyzers.SelectColumnLayer$1.onAllRequiredColumnsCompleted(SelectColumnLayer.java:210)\n\tat io.deephaven.engine.table.impl.select.analyzers.SelectAndViewAnalyzer$SelectLayerCompletionHandler.onLayerCompleted(SelectAndViewAnalyzer.java:589)\n\tat io.deephaven.engine.table.impl.select.analyzers.BaseLayer.applyUpdate(BaseLayer.java:76)\n\tat io.deephaven.engine.table.impl.select.analyzers.SelectColumnLayer.applyUpdate(SelectColumnLayer.java:151)\n\tat io.deephaven.engine.table.impl.select.analyzers.SelectColumnLayer.applyUpdate(SelectColumnLayer.java:151)\n\tat io.deephaven.engine.table.impl.select.analyzers.SelectColumnLayer.applyUpdate(SelectColumnLayer.java:151)\n\tat io.deephaven.engine.table.impl.QueryTable.lambda$selectOrUpdate$32(QueryTable.java:1497)\n\tat io.deephaven.engine.table.impl.perf.QueryPerformanceRecorder.withNugget(QueryPerformanceRecorder.java:519)\n\tat io.deephaven.engine.table.impl.QueryTable.lambda$selectOrUpdate$33(QueryTable.java:1447)\n\tat io.deephaven.engine.table.impl.QueryTable.memoizeResult(QueryTable.java:3453)\n\tat io.deephaven.engine.table.impl.QueryTable.selectOrUpdate(QueryTable.java:1446)\n\tat io.deephaven.engine.table.impl.QueryTable.update(QueryTable.java:1424)\n\tat io.deephaven.engine.table.impl.QueryTable.update(QueryTable.java:110)\n\tat io.deephaven.api.TableOperationsDefaults.update(TableOperationsDefaults.java:94)\ncaused by java.lang.RuntimeException: Error in Python interpreter:\nType: <class 'NameError'>\nValue: name 'columns' is not defined\nLine: 5\nNamespace: table_to_numpy_int\nFile: /tmp/ipykernel_18065/2210814329.py\nTraceback (most recent call last):\n  File \"/tmp/ipykernel_18065/2210814329.py\", line 5, in table_to_numpy_int\n\n\tat org.jpy.PyLib.callAndReturnObject(Native Method)\n\tat org.jpy.PyObject.call(PyObject.java:449)\n\tat io.deephaven.integrations.python.PythonFunctionCaller.apply(PythonFunctionCaller.java:32)\n\tat io.deephaven.integrations.python.PythonFunctionCaller.apply(PythonFunctionCaller.java:15)\n\tat io.deephaven.integrations.learn.Future.gather(Future.java:81)\n\tat io.deephaven.integrations.learn.Future.get(Future.java:59)\n\tat io.deephaven.temp.c_e8f972fea24b61ddb3040ab5d9d410aa77dcfcab3f03acd580841d541a46769bv55_0.Formula.applyFormulaPerItem(Formula.java:151)\n\t... 32 more\n\n\nThe above exception was the direct cause of the following exception:\n\nTraceback (most recent call last):\n  File \"/home/jasleen/Desktop/Thapar/Conversational-Systems/venv/lib/python3.11/site-packages/deephaven/learn/__init__.py\", line 157, in learn\n    .update(formulas=[\n     ^^^^^^^^^^^^^^^^^\n  File \"/home/jasleen/Desktop/Thapar/Conversational-Systems/venv/lib/python3.11/site-packages/deephaven/table.py\", line 837, in update\n    raise DHError(e, \"table update operation failed.\") from e\ndeephaven.dherror.DHError: table update operation failed. : java.lang.RuntimeException: Error in Python interpreter:\nTraceback (most recent call last):\n  File \"/home/jasleen/Desktop/Thapar/Conversational-Systems/venv/lib/python3.11/site-packages/deephaven/table.py\", line 835, in update\n    return Table(j_table=self.j_table.update(*formulas))\n                         ^^^^^^^^^^^^^^^^^^^^^^^^^^^^^^\nRuntimeError: io.deephaven.engine.table.impl.select.FormulaEvaluationException: In formula: __Result = __FutureOffset.getFuture().get()\n\tat io.deephaven.temp.c_e8f972fea24b61ddb3040ab5d9d410aa77dcfcab3f03acd580841d541a46769bv55_0.Formula.applyFormulaPerItem(Formula.java:153)\n\tat io.deephaven.temp.c_e8f972fea24b61ddb3040ab5d9d410aa77dcfcab3f03acd580841d541a46769bv55_0.Formula.lambda$fillChunkHelper$4(Formula.java:142)\n\tat io.deephaven.engine.rowset.RowSequence.lambda$forAllRowKeys$0(RowSequence.java:175)\n\tat io.deephaven.engine.rowset.impl.singlerange.SingleRangeMixin.forEachRowKey(SingleRangeMixin.java:17)\n\tat io.deephaven.engine.rowset.RowSequence.forAllRowKeys(RowSequence.java:174)\n\tat io.deephaven.temp.c_e8f972fea24b61ddb3040ab5d9d410aa77dcfcab3f03acd580841d541a46769bv55_0.Formula.fillChunkHelper(Formula.java:140)\n\tat io.deephaven.temp.c_e8f972fea24b61ddb3040ab5d9d410aa77dcfcab3f03acd580841d541a46769bv55_0.Formula.fillChunk(Formula.java:117)\n\tat io.deephaven.engine.table.impl.sources.ViewColumnSource.fillChunk(ViewColumnSource.java:219)\n\tat io.deephaven.engine.table.impl.select.analyzers.SelectColumnLayer.doApplyUpdate(SelectColumnLayer.java:412)\n\tat io.deephaven.engine.table.impl.select.analyzers.SelectColumnLayer.lambda$doSerialApplyUpdate$2(SelectColumnLayer.java:264)\n\tat io.deephaven.engine.util.systemicmarking.SystemicObjectTracker.executeSystemically(SystemicObjectTracker.java:56)\n\tat io.deephaven.engine.table.impl.select.analyzers.SelectColumnLayer.doSerialApplyUpdate(SelectColumnLayer.java:263)\n\tat io.deephaven.engine.table.impl.select.analyzers.SelectColumnLayer$1.lambda$onAllRequiredColumnsCompleted$1(SelectColumnLayer.java:212)\n\tat io.deephaven.engine.table.impl.util.ImmediateJobScheduler.submit(ImmediateJobScheduler.java:23)\n\tat io.deephaven.engine.table.impl.select.analyzers.SelectColumnLayer$1.onAllRequiredColumnsCompleted(SelectColumnLayer.java:210)\n\tat io.deephaven.engine.table.impl.select.analyzers.SelectAndViewAnalyzer$SelectLayerCompletionHandler.onLayerCompleted(SelectAndViewAnalyzer.java:589)\n\tat io.deephaven.engine.table.impl.select.analyzers.SelectColumnLayer.doSerialApplyUpdate(SelectColumnLayer.java:271)\n\tat io.deephaven.engine.table.impl.select.analyzers.SelectColumnLayer$1.lambda$onAllRequiredColumnsCompleted$1(SelectColumnLayer.java:212)\n\tat io.deephaven.engine.table.impl.util.ImmediateJobScheduler.submit(ImmediateJobScheduler.java:23)\n\tat io.deephaven.engine.table.impl.select.analyzers.SelectColumnLayer$1.onAllRequiredColumnsCompleted(SelectColumnLayer.java:210)\n\tat io.deephaven.engine.table.impl.select.analyzers.SelectAndViewAnalyzer$SelectLayerCompletionHandler.onLayerCompleted(SelectAndViewAnalyzer.java:589)\n\tat io.deephaven.engine.table.impl.select.analyzers.BaseLayer.applyUpdate(BaseLayer.java:76)\n\tat io.deephaven.engine.table.impl.select.analyzers.SelectColumnLayer.applyUpdate(SelectColumnLayer.java:151)\n\tat io.deephaven.engine.table.impl.select.analyzers.SelectColumnLayer.applyUpdate(SelectColumnLayer.java:151)\n\tat io.deephaven.engine.table.impl.select.analyzers.SelectColumnLayer.applyUpdate(SelectColumnLayer.java:151)\n\tat io.deephaven.engine.table.impl.QueryTable.lambda$selectOrUpdate$32(QueryTable.java:1497)\n\tat io.deephaven.engine.table.impl.perf.QueryPerformanceRecorder.withNugget(QueryPerformanceRecorder.java:519)\n\tat io.deephaven.engine.table.impl.QueryTable.lambda$selectOrUpdate$33(QueryTable.java:1447)\n\tat io.deephaven.engine.table.impl.QueryTable.memoizeResult(QueryTable.java:3453)\n\tat io.deephaven.engine.table.impl.QueryTable.selectOrUpdate(QueryTable.java:1446)\n\tat io.deephaven.engine.table.impl.QueryTable.update(QueryTable.java:1424)\n\tat io.deephaven.engine.table.impl.QueryTable.update(QueryTable.java:110)\n\tat io.deephaven.api.TableOperationsDefaults.update(TableOperationsDefaults.java:94)\ncaused by java.lang.RuntimeException: Error in Python interpreter:\nType: <class 'NameError'>\nValue: name 'columns' is not defined\nLine: 5\nNamespace: table_to_numpy_int\nFile: /tmp/ipykernel_18065/2210814329.py\nTraceback (most recent call last):\n  File \"/tmp/ipykernel_18065/2210814329.py\", line 5, in table_to_numpy_int\n\n\tat org.jpy.PyLib.callAndReturnObject(Native Method)\n\tat org.jpy.PyObject.call(PyObject.java:449)\n\tat io.deephaven.integrations.python.PythonFunctionCaller.apply(PythonFunctionCaller.java:32)\n\tat io.deephaven.integrations.python.PythonFunctionCaller.apply(PythonFunctionCaller.java:15)\n\tat io.deephaven.integrations.learn.Future.gather(Future.java:81)\n\tat io.deephaven.integrations.learn.Future.get(Future.java:59)\n\tat io.deephaven.temp.c_e8f972fea24b61ddb3040ab5d9d410aa77dcfcab3f03acd580841d541a46769bv55_0.Formula.applyFormulaPerItem(Formula.java:151)\n\t... 32 more\n\n\n"
     ]
    }
   ],
   "source": [
    "def train_model(data):\n",
    "    global sa_model\n",
    "    x_train = data[:, :-2]\n",
    "    y_train = data[:, -2:]\n",
    "    sa_model.fit(x_train, y_train, epochs = 7, batch_size = 32, verbose = 2)\n",
    "\n",
    "learn.learn(\n",
    "    table = train_table,\n",
    "    model_func = train_model,\n",
    "    inputs = [learn.Input(column_names, table_to_numpy_int)],\n",
    "    outputs = None,\n",
    "    batch_size = train_table.size\n",
    ")\n"
   ]
  }
 ],
 "metadata": {
  "kernelspec": {
   "display_name": "venv",
   "language": "python",
   "name": "python3"
  },
  "language_info": {
   "codemirror_mode": {
    "name": "ipython",
    "version": 3
   },
   "file_extension": ".py",
   "mimetype": "text/x-python",
   "name": "python",
   "nbconvert_exporter": "python",
   "pygments_lexer": "ipython3",
   "version": "3.11.4"
  },
  "orig_nbformat": 4
 },
 "nbformat": 4,
 "nbformat_minor": 2
}
